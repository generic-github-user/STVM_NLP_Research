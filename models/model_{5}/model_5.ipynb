{
 "cells": [
  {
   "cell_type": "code",
   "execution_count": 94,
   "id": "c536b595-deb9-42ed-bfc1-955520807af6",
   "metadata": {},
   "outputs": [
    {
     "name": "stderr",
     "output_type": "stream",
     "text": [
      "[NbConvertApp] Converting notebook model_5.ipynb to script\n",
      "[NbConvertApp] Writing 2340 bytes to model_5.py\n"
     ]
    }
   ],
   "source": [
    "# Convert this notebook to a Python script and save as a new file\n",
    "!jupyter nbconvert --to script model_5.ipynb"
   ]
  },
  {
   "cell_type": "code",
   "execution_count": 15,
   "id": "91d5b42a-7b2f-41c1-82ba-a82e6d5efed6",
   "metadata": {},
   "outputs": [],
   "source": [
    "import tensorflow as tf\n",
    "import matplotlib.pyplot as plt\n",
    "import numpy as np\n",
    "import glob\n",
    "import string"
   ]
  },
  {
   "cell_type": "code",
   "execution_count": 93,
   "id": "5bc58193-bd54-47c6-b208-03e13911d126",
   "metadata": {},
   "outputs": [
    {
     "name": "stdout",
     "output_type": "stream",
     "text": [
      "abcdefghijklmnopqrstuvwxyz \n",
      "0123456789\n"
     ]
    }
   ],
   "source": [
    "charlist = string.ascii_lowercase + ' \\n' + string.digits\n",
    "print(charlist)"
   ]
  },
  {
   "cell_type": "code",
   "execution_count": 78,
   "id": "c77d48a8-f509-42b3-b8e7-15b0b06ae3cd",
   "metadata": {},
   "outputs": [
    {
     "name": "stdout",
     "output_type": "stream",
     "text": [
      "0 once again mr costner has dragged out a movie for far longer than necessary aside from the terrific sea rescue sequences of which there are very few i just did not care about any of the characters mos... \n",
      "\n",
      "1 this is an example of why the majority of action films are the same generic and boring there s really nothing worth watching here a complete waste of the then barely tapped talents of ice t and ice cu... \n",
      "\n",
      "2 first of all i hate those moronic rappers who could nt act if they had a gun pressed against their foreheads all they do is curse and shoot each other and acting like clichã© e version of gangsters br... \n",
      "\n",
      "3 not even the beatles could write songs everyone liked and although walter hill is no mop top he s second to none when it comes to thought provoking action movies the nineties came and social platforms... \n",
      "\n",
      "4 brass pictures movies is not a fitting word for them really are somewhat brassy their alluring visual qualities are reminiscent of expensive high class tv commercials but unfortunately brass pictures ... \n",
      "\n",
      "0 i went and saw this movie last night after being coaxed to by a few friends of mine i ll admit that i was reluctant to see it because from what i knew of ashton kutcher he was only able to do comedy i... \n",
      "\n",
      "1 actor turned director bill paxton follows up his promising debut the gothic horror frailty with this family friendly sports drama about the 1913 u s open where a young american caddy rises from his hu... \n",
      "\n",
      "2 as a recreational golfer with some knowledge of the sport s history i was pleased with disney s sensitivity to the issues of class in golf in the early twentieth century the movie depicted well the ps... \n",
      "\n",
      "3 i saw this film in a sneak preview and it is delightful the cinematography is unusually creative the acting is good and the story is fabulous if this movie does not do well it won t be because it does... \n",
      "\n",
      "4 bill paxton has taken the true story of the 1913 us golf open and made a film that is about much more than an extra ordinary game of golf the film also deals directly with the class tensions of the ea... \n",
      "\n",
      "5850\n"
     ]
    }
   ],
   "source": [
    "dataset = []\n",
    "labels = []\n",
    "\n",
    "# TODO: move into function\n",
    "# Loop through categories\n",
    "for category, value in [('neg', 0), ('pos', 1)]:\n",
    "#     Get list of files in dataset and truncate\n",
    "    filenames = glob.glob(f'../train/{category}/*.txt')[:100]\n",
    "    for i, f in enumerate(filenames):\n",
    "        with open(f) as textfile:\n",
    "            p = string.punctuation\n",
    "#             Get text data and remove punctuation\n",
    "            content = textfile.read().translate(str.maketrans(p, ' '*len(p)))\n",
    "#             Convert to lowercase\n",
    "            content = content.lower()\n",
    "#             Replace spans of whitespace with single spaces\n",
    "            content = ' '.join(content.split())\n",
    "    \n",
    "#             Add x and y to corresponding data lists\n",
    "            dataset.append(content)\n",
    "            labels.append(value)\n",
    "            if i < 5:\n",
    "                print(i, content[:200]+'...', '\\n')\n",
    "\n",
    "def encode_char(c):\n",
    "    try:\n",
    "        return charlist.index(c)\n",
    "    except:\n",
    "        return len(charlist)\n",
    "        \n",
    "encoded = []\n",
    "max_len = max([len(d) for d in dataset])\n",
    "print(max_len)\n",
    "for i, d in enumerate(dataset):\n",
    "    s = ' ' * (max_len - len(d))\n",
    "    d = d + s\n",
    "#     try:\n",
    "    encoded.append(tf.one_hot([encode_char(c) for c in d], len(charlist)+1))\n",
    "#     except Exception as e:\n",
    "#         print('Encoding error:')\n",
    "#         print(d, e, '\\n')\n",
    "    dataset[i] = d\n"
   ]
  },
  {
   "cell_type": "code",
   "execution_count": 79,
   "id": "a0973048-b34f-4079-8317-8e7b0bfd349d",
   "metadata": {},
   "outputs": [
    {
     "name": "stdout",
     "output_type": "stream",
     "text": [
      "(200, 5850, 39) 45630000\n",
      "(200,)\n"
     ]
    }
   ],
   "source": [
    "A = np.array(encoded)\n",
    "encoded = A\n",
    "print(A.shape, A.size)\n",
    "\n",
    "labels = np.array(labels)\n",
    "print(labels.shape)"
   ]
  },
  {
   "cell_type": "code",
   "execution_count": 87,
   "id": "75f63a08-6235-4115-afa1-f381f7bbf442",
   "metadata": {},
   "outputs": [
    {
     "name": "stdout",
     "output_type": "stream",
     "text": [
      "Model: \"sequential_12\"\n",
      "_________________________________________________________________\n",
      "Layer (type)                 Output Shape              Param #   \n",
      "=================================================================\n",
      "lstm_11 (LSTM)               (None, 20)                4800      \n",
      "_________________________________________________________________\n",
      "dense_1 (Dense)              (None, 40)                840       \n",
      "_________________________________________________________________\n",
      "dense_2 (Dense)              (None, 1)                 41        \n",
      "=================================================================\n",
      "Total params: 5,681\n",
      "Trainable params: 5,681\n",
      "Non-trainable params: 0\n",
      "_________________________________________________________________\n"
     ]
    }
   ],
   "source": [
    "model = tf.keras.models.Sequential([\n",
    "    tf.keras.layers.LSTM(20, input_shape=(5850, 39)),\n",
    "    tf.keras.layers.Dense(40, activation=tf.keras.activations.tanh),\n",
    "    tf.keras.layers.Dense(1, activation=tf.keras.activations.sigmoid)\n",
    "])\n",
    "model.summary()"
   ]
  },
  {
   "cell_type": "code",
   "execution_count": 88,
   "id": "653f70ca-7c7c-4f87-bbee-8512b43b17ab",
   "metadata": {},
   "outputs": [],
   "source": [
    "model.compile(\n",
    "    optimizer=tf.keras.optimizers.Adagrad(learning_rate=0.01),\n",
    "    loss=tf.keras.losses.binary_crossentropy,\n",
    ")"
   ]
  },
  {
   "cell_type": "code",
   "execution_count": 89,
   "id": "8124f259-8afe-4b41-aad4-b0531e892d01",
   "metadata": {},
   "outputs": [
    {
     "name": "stdout",
     "output_type": "stream",
     "text": [
      "Epoch 1/5\n",
      "13/13 [==============================] - 14s 925ms/step - loss: 7.6515\n",
      "Epoch 2/5\n",
      "13/13 [==============================] - 12s 931ms/step - loss: 7.6449\n",
      "Epoch 3/5\n",
      "13/13 [==============================] - 12s 927ms/step - loss: 7.6440\n",
      "Epoch 4/5\n",
      "13/13 [==============================] - 12s 940ms/step - loss: 3.5429\n",
      "Epoch 5/5\n",
      "13/13 [==============================] - 12s 925ms/step - loss: 0.6991\n"
     ]
    },
    {
     "data": {
      "text/plain": [
       "<tensorflow.python.keras.callbacks.History at 0x27300ee5880>"
      ]
     },
     "execution_count": 89,
     "metadata": {},
     "output_type": "execute_result"
    }
   ],
   "source": [
    "model.fit(encoded, labels, epochs=5, batch_size=16)"
   ]
  },
  {
   "cell_type": "code",
   "execution_count": 91,
   "id": "be2b674c-ae43-4e17-839a-3a5234d8f9f6",
   "metadata": {},
   "outputs": [
    {
     "data": {
      "text/plain": [
       "<tf.Tensor: shape=(1, 1), dtype=float32, numpy=array([[0.47767258]], dtype=float32)>"
      ]
     },
     "execution_count": 91,
     "metadata": {},
     "output_type": "execute_result"
    }
   ],
   "source": [
    "model(encoded[:1])"
   ]
  }
 ],
 "metadata": {
  "kernelspec": {
   "display_name": "Python 3",
   "language": "python",
   "name": "python3"
  },
  "language_info": {
   "codemirror_mode": {
    "name": "ipython",
    "version": 3
   },
   "file_extension": ".py",
   "mimetype": "text/x-python",
   "name": "python",
   "nbconvert_exporter": "python",
   "pygments_lexer": "ipython3",
   "version": "3.9.4"
  }
 },
 "nbformat": 4,
 "nbformat_minor": 5
}
