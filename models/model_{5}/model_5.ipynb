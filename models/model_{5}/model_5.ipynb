{
 "cells": [
  {
   "cell_type": "code",
   "execution_count": 94,
   "id": "c536b595-deb9-42ed-bfc1-955520807af6",
   "metadata": {},
   "outputs": [
    {
     "name": "stderr",
     "output_type": "stream",
     "text": [
      "[NbConvertApp] Converting notebook model_5.ipynb to script\n",
      "[NbConvertApp] Writing 2340 bytes to model_5.py\n"
     ]
    }
   ],
   "source": [
    "# Convert this notebook to a Python script and save as a new file\n",
    "!jupyter nbconvert --to script model_5.ipynb"
   ]
  },
  {
   "cell_type": "code",
   "execution_count": 15,
   "id": "91d5b42a-7b2f-41c1-82ba-a82e6d5efed6",
   "metadata": {},
   "outputs": [],
   "source": [
    "import tensorflow as tf\n",
    "import matplotlib.pyplot as plt\n",
    "import numpy as np\n",
    "import glob\n",
    "import string"
   ]
  },
  {
   "cell_type": "code",
   "execution_count": 93,
   "id": "5bc58193-bd54-47c6-b208-03e13911d126",
   "metadata": {},
   "outputs": [
    {
     "name": "stdout",
     "output_type": "stream",
     "text": [
      "abcdefghijklmnopqrstuvwxyz \n",
      "0123456789\n"
     ]
    }
   ],
   "source": [
    "charlist = string.ascii_lowercase + ' \\n' + string.digits\n",
    "print(charlist)"
   ]
  },
  {
   "cell_type": "code",
   "execution_count": 108,
   "id": "3b6a2a01-2a4b-48a7-8625-76f434c5a9fa",
   "metadata": {},
   "outputs": [],
   "source": [
    "def load_data(start=0, stop=100, log=False):\n",
    "    dataset = []\n",
    "    labels = []\n",
    "    \n",
    "    # Loop through categories\n",
    "    for category, value in [('neg', 0), ('pos', 1)]:\n",
    "    #     Get list of files in dataset and truncate\n",
    "        filenames = glob.glob(f'../train/{category}/*.txt')[start:stop]\n",
    "        for i, f in enumerate(filenames):\n",
    "            with open(f) as textfile:\n",
    "                p = string.punctuation\n",
    "    #             Get text data and remove punctuation\n",
    "                content = textfile.read().translate(str.maketrans(p, ' '*len(p)))\n",
    "    #             Convert to lowercase\n",
    "                content = content.lower()\n",
    "    #             Replace spans of whitespace with single spaces\n",
    "                content = ' '.join(content.split())\n",
    "\n",
    "    #             Add x and y to corresponding data lists\n",
    "                dataset.append(content)\n",
    "                labels.append(value)\n",
    "                if i < 5 and log:\n",
    "                    print(i, content[:200]+'...', '\\n')\n",
    "    \n",
    "    return dataset, labels"
   ]
  },
  {
   "cell_type": "code",
   "execution_count": 109,
   "id": "9b85b77a-a595-4e0a-ad89-7c614d81979a",
   "metadata": {},
   "outputs": [],
   "source": [
    "def encode_char(c):\n",
    "    try:\n",
    "        return charlist.index(c)\n",
    "    except:\n",
    "        return len(charlist)"
   ]
  },
  {
   "cell_type": "code",
   "execution_count": 110,
   "id": "ff370fb4-2cc0-4631-b91d-24fa19c29803",
   "metadata": {},
   "outputs": [],
   "source": [
    "def prep_data(*args, **kwargs):\n",
    "    X, Y = load_data(*args, **kwargs)\n",
    "    encoded = []\n",
    "    max_len = max([len(d) for d in X])\n",
    "    print(max_len)\n",
    "    for i, d in enumerate(X):\n",
    "        s = ' ' * (max_len - len(d))\n",
    "        d = d + s\n",
    "    #     try:\n",
    "        encoded.append(tf.one_hot([encode_char(c) for c in d], len(charlist)+1))\n",
    "    #     except Exception as e:\n",
    "    #         print('Encoding error:')\n",
    "    #         print(d, e, '\\n')\n",
    "        X[i] = d\n",
    "\n",
    "    X = np.array(encoded)\n",
    "#     encoded = A\n",
    "    print(X.shape, X.size)\n",
    "\n",
    "    Y = np.array(Y)\n",
    "    print(Y.shape)\n",
    "    \n",
    "    return X, Y"
   ]
  },
  {
   "cell_type": "code",
   "execution_count": 114,
   "id": "75f63a08-6235-4115-afa1-f381f7bbf442",
   "metadata": {},
   "outputs": [
    {
     "name": "stdout",
     "output_type": "stream",
     "text": [
      "Model: \"sequential_15\"\n",
      "_________________________________________________________________\n",
      "Layer (type)                 Output Shape              Param #   \n",
      "=================================================================\n",
      "lstm_14 (LSTM)               (None, 20)                4800      \n",
      "_________________________________________________________________\n",
      "dense_7 (Dense)              (None, 40)                840       \n",
      "_________________________________________________________________\n",
      "dense_8 (Dense)              (None, 1)                 41        \n",
      "=================================================================\n",
      "Total params: 5,681\n",
      "Trainable params: 5,681\n",
      "Non-trainable params: 0\n",
      "_________________________________________________________________\n"
     ]
    }
   ],
   "source": [
    "model = tf.keras.models.Sequential([\n",
    "    tf.keras.layers.LSTM(20, input_shape=(5850, 39)),\n",
    "    tf.keras.layers.Dense(40, activation=tf.keras.activations.tanh),\n",
    "    tf.keras.layers.Dense(1, activation=tf.keras.activations.sigmoid)\n",
    "])\n",
    "model.summary()"
   ]
  },
  {
   "cell_type": "code",
   "execution_count": 115,
   "id": "653f70ca-7c7c-4f87-bbee-8512b43b17ab",
   "metadata": {},
   "outputs": [],
   "source": [
    "model.compile(\n",
    "    optimizer=tf.keras.optimizers.Adagrad(learning_rate=0.01),\n",
    "    loss=tf.keras.losses.binary_crossentropy,\n",
    ")"
   ]
  },
  {
   "cell_type": "code",
   "execution_count": null,
   "id": "8124f259-8afe-4b41-aad4-b0531e892d01",
   "metadata": {},
   "outputs": [],
   "source": [
    "X, Y = prep_data(0, 100)\n",
    "model.fit(X, Y, epochs=5, batch_size=16)"
   ]
  },
  {
   "cell_type": "code",
   "execution_count": 91,
   "id": "be2b674c-ae43-4e17-839a-3a5234d8f9f6",
   "metadata": {},
   "outputs": [
    {
     "data": {
      "text/plain": [
       "<tf.Tensor: shape=(1, 1), dtype=float32, numpy=array([[0.47767258]], dtype=float32)>"
      ]
     },
     "execution_count": 91,
     "metadata": {},
     "output_type": "execute_result"
    }
   ],
   "source": [
    "model(encoded[:1])"
   ]
  }
 ],
 "metadata": {
  "kernelspec": {
   "display_name": "Python 3",
   "language": "python",
   "name": "python3"
  },
  "language_info": {
   "codemirror_mode": {
    "name": "ipython",
    "version": 3
   },
   "file_extension": ".py",
   "mimetype": "text/x-python",
   "name": "python",
   "nbconvert_exporter": "python",
   "pygments_lexer": "ipython3",
   "version": "3.9.4"
  }
 },
 "nbformat": 4,
 "nbformat_minor": 5
}
