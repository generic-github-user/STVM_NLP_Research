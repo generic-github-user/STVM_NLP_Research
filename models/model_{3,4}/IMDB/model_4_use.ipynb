{
 "cells": [
  {
   "cell_type": "markdown",
   "metadata": {},
   "source": [
    "# Movie Review Sentiment Analysis Using USE (Universal Sentence Encoder)\n",
    "\n",
    "**Dataset**\n",
    "\n",
    "IMDB dataset has 50K movie reviews for natural language processing.\n",
    "Please download the dataset from [Kaggle link for IMDB master](https://www.kaggle.com/uttam94/imdb-mastercsv) and preprocess the data. Use the column \"type\" to seperate training and test datasets if needed as used in this case.\n",
    "\n",
    "**Problem**\n",
    "\n",
    "A review in the IMDB dataset is either positive or negative. Therefore, the NLP movie review sentiment analysis task is a supervised learning binary classification problem.\n",
    "\n",
    "**Settings**\n",
    "\n",
    "1. Split IMDB training data to 20K and 5K.\n",
    "2. Use 20K in training a model.\n",
    "3. Get predictions on 5K train data (model_4_5ktrain.csv) and 25K test data (model_4_25ktest.csv).\n",
    "4. Two prediction files created in Item 3 are used in SSNet combiner."
   ]
  },
  {
   "cell_type": "code",
   "execution_count": 1,
   "metadata": {},
   "outputs": [],
   "source": [
    "# Enable intellisense\n",
    "%config IPCompleter.greedy=True"
   ]
  },
  {
   "cell_type": "code",
   "execution_count": 2,
   "metadata": {},
   "outputs": [
    {
     "name": "stdout",
     "output_type": "stream",
     "text": [
      "TensorFlow Version: 2.5.0\n",
      "Hub version:  0.12.0\n",
      "GPU is NOT AVAILABLE\n"
     ]
    }
   ],
   "source": [
    "# Import modules\n",
    "import pandas as pd\n",
    "import numpy as np\n",
    "import tensorflow as tf\n",
    "import tensorflow_hub as hub\n",
    "from tensorflow.keras.utils import to_categorical\n",
    "from tensorflow.keras.models import  Model\n",
    "from tensorflow.keras.layers import Input, Dense, Dropout\n",
    "from tensorflow.keras.optimizers import Adam\n",
    "from tensorflow.keras.callbacks import ModelCheckpoint, TensorBoard\n",
    "from tqdm import tqdm\n",
    "import matplotlib.pyplot as plt\n",
    "\n",
    "\n",
    "## from ssnet\n",
    "from tensorflow.keras.layers import BatchNormalization, InputLayer, RepeatVector\n",
    "from tensorflow.keras.layers import Dense, Activation, Dropout, Input, LSTM, Flatten\n",
    "\n",
    "print(\"TensorFlow Version:\",tf.__version__)\n",
    "print(\"Hub version: \",hub.__version__)\n",
    "print(\"GPU is\", \"available\" if tf.config.list_physical_devices('GPU') else \"NOT AVAILABLE\")\n",
    "pd.set_option('display.max_colwidth',1000)\n",
    "\n",
    "import importlib"
   ]
  },
  {
   "cell_type": "code",
   "execution_count": 3,
   "metadata": {},
   "outputs": [],
   "source": [
    "import sys\n",
    "sys.path.append(\"./helpers\")\n",
    "import imdb_preprocess_functions as imdb\n",
    "dir(imdb)\n",
    "sys.path.append(\"../model_helpers\")\n",
    "import model_utils as model_utils\n",
    "\n",
    "## USE functions\n",
    "sys.path.append(\"../use_helpers\")\n",
    "import use_functions as iUse"
   ]
  },
  {
   "cell_type": "markdown",
   "metadata": {},
   "source": [
    "## Data preprocessing"
   ]
  },
  {
   "cell_type": "code",
   "execution_count": 4,
   "metadata": {},
   "outputs": [
    {
     "name": "stdout",
     "output_type": "stream",
     "text": [
      "The number of rows and columns in the training dataset is: (25000, 5)\n",
      "Missing values in train dataset:\n",
      "Unnamed: 0    0\n",
      "type          0\n",
      "review        0\n",
      "label         0\n",
      "file          0\n",
      "dtype: int64\n",
      "Check train class balance\n",
      "0.0    12500\n",
      "1.0    12500\n",
      "Name: label, dtype: int64\n",
      "The number of rows and columns in the test dataset is: (25000, 5)\n",
      "Missing values in test dataset:\n",
      "Unnamed: 0    0\n",
      "type          0\n",
      "review        0\n",
      "label         0\n",
      "file          0\n",
      "dtype: int64\n",
      "Check test class balance\n",
      "0.0    12500\n",
      "1.0    12500\n",
      "Name: label, dtype: int64\n"
     ]
    }
   ],
   "source": [
    "# Load imdb master data, return 25K train and 25K test datasets\n",
    "[df_train, df_test] = imdb.get_imdb_df_data('./data/imdb_master.csv')"
   ]
  },
  {
   "cell_type": "code",
   "execution_count": 5,
   "metadata": {},
   "outputs": [],
   "source": [
    "# Preprocess 25K train data. Return review texts with label (positive or negative). Train data is reproducibly shuffled.\n",
    "train_data = text_train, label_train, df_fit_train = imdb.get_fit_data(df_train, True)"
   ]
  },
  {
   "cell_type": "code",
   "execution_count": 6,
   "metadata": {},
   "outputs": [],
   "source": [
    "# Specify split size. Use this number in training the model\n",
    "SPLIT_TRAIN_SIZE = 20000"
   ]
  },
  {
   "cell_type": "code",
   "execution_count": 8,
   "metadata": {},
   "outputs": [
    {
     "data": {
      "text/plain": [
       "<matplotlib.collections.QuadMesh at 0x23f4b7e1370>"
      ]
     },
     "execution_count": 8,
     "metadata": {},
     "output_type": "execute_result"
    },
    {
     "data": {
      "image/png": "[encoded data removed]",
      "text/plain": [
       "<Figure size 432x288 with 1 Axes>"
      ]
     },
     "metadata": {
      "needs_background": "light"
     },
     "output_type": "display_data"
    }
   ],
   "source": [
    "# Plot class districution. Verify it's balanced.\n",
    "plt.pcolormesh(train_data[1])"
   ]
  },
  {
   "cell_type": "code",
   "execution_count": 9,
   "metadata": {},
   "outputs": [],
   "source": [
    "# split train data run\n",
    "train_final_data = train_data[0][:SPLIT_TRAIN_SIZE], train_data[1][:SPLIT_TRAIN_SIZE], train_data[2][:SPLIT_TRAIN_SIZE]\n",
    "\n",
    "x_train = train_final_data[0]\n",
    "y_train = train_final_data[1]"
   ]
  },
  {
   "cell_type": "markdown",
   "metadata": {},
   "source": [
    "## Model training"
   ]
  },
  {
   "cell_type": "code",
   "execution_count": null,
   "metadata": {},
   "outputs": [],
   "source": [
    "use_model_url = \"https://tfhub.dev/google/universal-sentence-encoder/4\"\n",
    "model = iUse.get_model(use_model_url, 2, 1)\n",
    "model.summary()"
   ]
  },
  {
   "cell_type": "code",
   "execution_count": 12,
   "metadata": {},
   "outputs": [],
   "source": [
    "# Model parameter set\n",
    "BATCH_SIZE = 100\n",
    "EPOCHS = 7\n",
    "LRATE = 2e-4\n",
    "LOSS = 'categorical_crossentropy'\n",
    "METRICS = 'accuracy'"
   ]
  },
  {
   "cell_type": "code",
   "execution_count": 13,
   "metadata": {},
   "outputs": [],
   "source": [
    "# Specify model name\n",
    "root_name = 'model_use'\n",
    "model_file_name = root_name + '_' + str(SPLIT_TRAIN_SIZE) + '_'\n",
    "model_name = model_file_name + 'epoch_' + str(EPOCHS) + \".h5\""
   ]
  },
  {
   "cell_type": "code",
   "execution_count": 14,
   "metadata": {},
   "outputs": [],
   "source": [
    "# Train the model\n",
    "\n",
    "#Use Adam optimizer to minimize the categorical_crossentropy loss\n",
    "opt = Adam(learning_rate=LRATE)\n",
    "model.compile(optimizer=opt, \n",
    "              loss=LOSS,\n",
    "              metrics=[METRICS])"
   ]
  },
  {
   "cell_type": "code",
   "execution_count": null,
   "metadata": {},
   "outputs": [
    {
     "name": "stdout",
     "output_type": "stream",
     "text": [
      "Epoch 1/7\n"
     ]
    }
   ],
   "source": [
    "# Fit the data to the model\n",
    "history = model.fit(x_train, y_train,\n",
    "    epochs=EPOCHS,\n",
    "    batch_size=BATCH_SIZE,\n",
    "                    verbose = 1)\n",
    "\n",
    "# Save the trained model\n",
    "model.save(model_name)\n",
    "model_utils.get_history(history)"
   ]
  },
  {
   "cell_type": "code",
   "execution_count": 14,
   "metadata": {},
   "outputs": [],
   "source": [
    "# Load the pretrained nlp_model\n",
    "from tensorflow.keras.models import load_model\n",
    "new_model = load_model(model_name, custom_objects={'KerasLayer':hub.KerasLayer})"
   ]
  },
  {
   "cell_type": "code",
   "execution_count": 15,
   "metadata": {},
   "outputs": [],
   "source": [
    "test_data = text_test, label_test, df_fit_test = imdb.get_fit_data(df_test, False)\n",
    "# Use 5K split train data as test data to get predictions\n",
    "test_final_data = train_data[0][SPLIT_TRAIN_SIZE:], train_data[1][SPLIT_TRAIN_SIZE:], train_data[2][SPLIT_TRAIN_SIZE:]\n",
    "\n",
    "x_test = test_final_data[0]\n",
    "y_test = test_final_data[1]"
   ]
  },
  {
   "cell_type": "code",
   "execution_count": 16,
   "metadata": {},
   "outputs": [
    {
     "name": "stdout",
     "output_type": "stream",
     "text": [
      "50/50 [==============================] - 5s 100ms/step - loss: 0.3720 - accuracy: 0.8914\n",
      "[0.37198859453201294, 0.8913999795913696]\n",
      "              precision    recall  f1-score   support\n",
      "\n",
      "           0     0.8947    0.8864    0.8905      2492\n",
      "           1     0.8882    0.8963    0.8922      2508\n",
      "\n",
      "    accuracy                         0.8914      5000\n",
      "   macro avg     0.8914    0.8914    0.8914      5000\n",
      "weighted avg     0.8914    0.8914    0.8914      5000\n",
      "\n"
     ]
    }
   ],
   "source": [
    "# Get predictions for test data\n",
    "prediction_prob = model_utils.get_model_performance(model_name, x_test, y_test, BATCH_SIZE)"
   ]
  },
  {
   "cell_type": "code",
   "execution_count": 17,
   "metadata": {},
   "outputs": [],
   "source": [
    "# Create result file\n",
    "result_file_root_name = root_name + '_result'\n",
    "run_type = 2 #split run\n",
    "model_utils.output_result(test_final_data[2], result_file_root_name, run_type, prediction_prob, SPLIT_TRAIN_SIZE)"
   ]
  },
  {
   "cell_type": "code",
   "execution_count": 18,
   "metadata": {},
   "outputs": [
    {
     "name": "stdout",
     "output_type": "stream",
     "text": [
      "196/196 [==============================] - 24s 125ms/step - loss: 0.3862 - accuracy: 0.8831\n",
      "[0.38624557852745056, 0.8831200003623962]\n",
      "              precision    recall  f1-score   support\n",
      "\n",
      "           0     0.8821    0.8844    0.8833     12500\n",
      "           1     0.8841    0.8818    0.8830     12500\n",
      "\n",
      "    accuracy                         0.8831     25000\n",
      "   macro avg     0.8831    0.8831    0.8831     25000\n",
      "weighted avg     0.8831    0.8831    0.8831     25000\n",
      "\n"
     ]
    },
    {
     "data": {
      "image/png": "[encoded data removed]",
      "text/plain": [
       "<Figure size 432x288 with 1 Axes>"
      ]
     },
     "metadata": {
      "needs_background": "light"
     },
     "output_type": "display_data"
    }
   ],
   "source": [
    "# Run prediction and create result file for 25k test data for split run\n",
    "x_test = test_data[0]\n",
    "y_test = test_data[1]\n",
    "plt.pcolormesh(y_test)\n",
    "prediction_prob = model_utils.get_model_performance(model_name, x_test, y_test, 128)\n",
    "model_utils.output_result(test_data[2], result_file_root_name, run_type, prediction_prob, SPLIT_TRAIN_SIZE)"
   ]
  },
  {
   "cell_type": "code",
   "execution_count": 19,
   "metadata": {},
   "outputs": [],
   "source": [
    "# Rename files for SSNet combiners\n",
    "import os\n",
    "os.rename(r'model_use_result_split_25000_20000.csv',r'model_4_25ktest.csv')\n",
    "os.rename(r'model_use_result_split_5000_20000.csv',r'model_4_5ktrain.csv')"
   ]
  },
  {
   "cell_type": "code",
   "execution_count": null,
   "metadata": {},
   "outputs": [],
   "source": []
  }
 ],
 "metadata": {
  "kernelspec": {
   "display_name": "Python 3",
   "language": "python",
   "name": "python3"
  },
  "language_info": {
   "codemirror_mode": {
    "name": "ipython",
    "version": 3
   },
   "file_extension": ".py",
   "mimetype": "text/x-python",
   "name": "python",
   "nbconvert_exporter": "python",
   "pygments_lexer": "ipython3",
   "version": "3.9.4"
  }
 },
 "nbformat": 4,
 "nbformat_minor": 4
}
