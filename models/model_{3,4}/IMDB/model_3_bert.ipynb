{
 "cells": [
  {
   "cell_type": "markdown",
   "metadata": {
    "colab_type": "text",
    "id": "o2nRY4GyKWqL"
   },
   "source": [
    "# Movie Review Sentiment Analysis Using BERT\n",
    "\n",
    "Fine tuning BERT ($BERT_{BASE}$ has total parameters of 110M (L=12, H=768, A=12, Total Parameters=110M) (Devlin et al, 2019, [BERT paper link](https://arxiv.org/pdf/1810.04805.pdf)) for sentiment analysis.\n",
    "\n",
    "\n",
    "**Dataset**\n",
    "\n",
    "IMDB dataset has 50K movie reviews for natural language processing.\n",
    "Please download the dataset from [Kaggle link for IMDB master](https://www.kaggle.com/uttam94/imdb-mastercsv) and preprocess the data. Use the column \"type\" to seperate training and test datasets if needed as used in this case.\n",
    "\n",
    "**Problem**\n",
    "\n",
    "A review in the IMDB dataset is either positive or negative. Therefore, the NLP movie review sentiment analysis task is a supervised learning binary classification problem.\n",
    "\n",
    "**Settings**\n",
    "\n",
    "1. Split IMDB training data to 20K and 5K.\n",
    "2. Use 20K in training a model.\n",
    "3. Get predictions on 5K train data (model_3_5ktrain.csv) and 25K test data (model_3_25ktest.csv).\n",
    "4. Two prediction files created in Item 3 are used in SSNet combiner."
   ]
  },
  {
   "cell_type": "code",
   "execution_count": 1,
   "metadata": {},
   "outputs": [],
   "source": [
    "# Enable intellisense\n",
    "%config IPCompleter.greedy=True"
   ]
  },
  {
   "cell_type": "code",
   "execution_count": 2,
   "metadata": {
    "colab": {
     "base_uri": "https://localhost:8080/",
     "height": 51
    },
    "colab_type": "code",
    "id": "dotZjUvecRI8",
    "outputId": "bd526538-b424-4b7a-88c7-3c736d8a597f"
   },
   "outputs": [
    {
     "name": "stdout",
     "output_type": "stream",
     "text": [
      "TensorFlow Version: 2.2.0\n",
      "Hub version:  0.9.0\n",
      "GPU is available\n"
     ]
    }
   ],
   "source": [
    "# Import modules\n",
    "import pandas as pd\n",
    "import numpy as np\n",
    "import bert\n",
    "import tensorflow as tf\n",
    "import tensorflow_hub as hub\n",
    "from tensorflow.keras.models import  Model\n",
    "from tensorflow.keras.layers import Input, Dense, Dropout\n",
    "from tensorflow.keras.optimizers import Adam\n",
    "from tensorflow.keras.callbacks import ModelCheckpoint, TensorBoard\n",
    "from tqdm import tqdm\n",
    "import matplotlib.pyplot as plt\n",
    "\n",
    "print(\"TensorFlow Version:\",tf.__version__)\n",
    "print(\"Hub version: \",hub.__version__)\n",
    "print(\"GPU is\", \"available\" if tf.config.list_physical_devices('GPU') else \"NOT AVAILABLE\")\n",
    "pd.set_option('display.max_colwidth',1000)"
   ]
  },
  {
   "cell_type": "code",
   "execution_count": 3,
   "metadata": {},
   "outputs": [],
   "source": [
    "import sys\n",
    "sys.path.append(\"./helpers\")\n",
    "import imdb_preprocess_functions as imdb\n",
    "sys.path.append(\"../model_helpers\")\n",
    "import model_utils as model_utils\n",
    "sys.path.append(\"../bert_helpers\")\n",
    "import bert_functions as iBert\n",
    "import importlib"
   ]
  },
  {
   "cell_type": "markdown",
   "metadata": {
    "colab_type": "text",
    "id": "-uH1zw2Pa13m"
   },
   "source": [
    "## Data preprocessing"
   ]
  },
  {
   "cell_type": "code",
   "execution_count": 4,
   "metadata": {},
   "outputs": [
    {
     "name": "stdout",
     "output_type": "stream",
     "text": [
      "The number of rows and columns in the training dataset is: (25000, 5)\n",
      "Missing values in train dataset:\n",
      "Unnamed: 0    0\n",
      "type          0\n",
      "review        0\n",
      "label         0\n",
      "file          0\n",
      "dtype: int64\n",
      "Check train class balance\n",
      "1.0    12500\n",
      "0.0    12500\n",
      "Name: label, dtype: int64\n",
      "The number of rows and columns in the test dataset is: (25000, 5)\n",
      "Missing values in test dataset:\n",
      "Unnamed: 0    0\n",
      "type          0\n",
      "review        0\n",
      "label         0\n",
      "file          0\n",
      "dtype: int64\n",
      "Check test class balance\n",
      "1.0    12500\n",
      "0.0    12500\n",
      "Name: label, dtype: int64\n"
     ]
    }
   ],
   "source": [
    "# Load imdb master data, return 25K train and 25K test datasets\n",
    "[df_train, df_test] = imdb.get_imdb_df_data('./data/imdb_master.csv')"
   ]
  },
  {
   "cell_type": "code",
   "execution_count": 5,
   "metadata": {},
   "outputs": [],
   "source": [
    "# Preprocess 25K train data. Return review texts with label (positive or negative). Train data is reproducibly shuffled.\n",
    "train_data = text_train, label_train, df_fit_train = imdb.get_fit_data(df_train, True)"
   ]
  },
  {
   "cell_type": "code",
   "execution_count": 6,
   "metadata": {},
   "outputs": [],
   "source": [
    "# Specify split size. Use this number in training the model\n",
    "SPLIT_TRAIN_SIZE = 20000"
   ]
  },
  {
   "cell_type": "code",
   "execution_count": 7,
   "metadata": {},
   "outputs": [
    {
     "data": {
      "text/plain": [
       "<matplotlib.collections.QuadMesh at 0x7f6b0d7bffd0>"
      ]
     },
     "execution_count": 7,
     "metadata": {},
     "output_type": "execute_result"
    },
    {
     "data": {
      "image/png": "[encoded data removed]",
      "text/plain": [
       "<Figure size 432x288 with 1 Axes>"
      ]
     },
     "metadata": {
      "needs_background": "light"
     },
     "output_type": "display_data"
    }
   ],
   "source": [
    "# Plot class districution. Verify it's balanced.\n",
    "plt.pcolormesh(train_data[1])"
   ]
  },
  {
   "cell_type": "raw",
   "metadata": {
    "colab_type": "text",
    "id": "Xs6_p8VTgpoy"
   },
   "source": [
    "## Modelling"
   ]
  },
  {
   "cell_type": "code",
   "execution_count": 8,
   "metadata": {},
   "outputs": [
    {
     "name": "stdout",
     "output_type": "stream",
     "text": [
      "Model: \"model\"\n",
      "__________________________________________________________________________________________________\n",
      "Layer (type)                    Output Shape         Param #     Connected to                     \n",
      "==================================================================================================\n",
      "input_ids (InputLayer)          [(None, 500)]        0                                            \n",
      "__________________________________________________________________________________________________\n",
      "input_masks (InputLayer)        [(None, 500)]        0                                            \n",
      "__________________________________________________________________________________________________\n",
      "segment_ids (InputLayer)        [(None, 500)]        0                                            \n",
      "__________________________________________________________________________________________________\n",
      "bert_layer (KerasLayer)         [(None, 768), (None, 109482241   input_ids[0][0]                  \n",
      "                                                                 input_masks[0][0]                \n",
      "                                                                 segment_ids[0][0]                \n",
      "__________________________________________________________________________________________________\n",
      "dense (Dense)                   (None, 768)          590592      bert_layer[0][0]                 \n",
      "__________________________________________________________________________________________________\n",
      "dropout (Dropout)               (None, 768)          0           dense[0][0]                      \n",
      "__________________________________________________________________________________________________\n",
      "predictions (Dense)             (None, 2)            1538        dropout[0][0]                    \n",
      "==================================================================================================\n",
      "Total params: 110,074,371\n",
      "Trainable params: 110,074,370\n",
      "Non-trainable params: 1\n",
      "__________________________________________________________________________________________________\n"
     ]
    }
   ],
   "source": [
    "# Modelling fine-tuned Bert model\n",
    "pre_trained_bert_url = \"https://tfhub.dev/tensorflow/bert_en_uncased_L-12_H-768_A-12/2\"\n",
    "model = iBert.nlp_model(pre_trained_bert_url, 2)\n",
    "model.summary()"
   ]
  },
  {
   "cell_type": "code",
   "execution_count": 9,
   "metadata": {},
   "outputs": [],
   "source": [
    "# Get Bert tokenizer\n",
    "tokenizer = iBert.create_tonkenizer(model.layers[3])"
   ]
  },
  {
   "cell_type": "code",
   "execution_count": 10,
   "metadata": {},
   "outputs": [
    {
     "name": "stderr",
     "output_type": "stream",
     "text": [
      "100%|██████████| 20000/20000 [00:58<00:00, 340.78it/s]\n"
     ]
    }
   ],
   "source": [
    "# split train data run\n",
    "train_final_data = train_data[0][:SPLIT_TRAIN_SIZE], train_data[1][:SPLIT_TRAIN_SIZE], train_data[2][:SPLIT_TRAIN_SIZE]\n",
    "    \n",
    "x_train = x_input1, x_input2, x_input3 = iBert.convert_sentences_to_features(train_final_data[0], tokenizer)\n",
    "y_train = train_final_data[1]"
   ]
  },
  {
   "cell_type": "markdown",
   "metadata": {
    "colab_type": "text",
    "id": "ViqJURL5qcZJ"
   },
   "source": [
    "## Model training"
   ]
  },
  {
   "cell_type": "code",
   "execution_count": 11,
   "metadata": {},
   "outputs": [],
   "source": [
    "# Model parameter set\n",
    "BATCH_SIZE = 8\n",
    "EPOCHS = 4\n",
    "LRATE = 2e-5\n",
    "LOSS = 'categorical_crossentropy'\n",
    "METRICS = 'accuracy'\n",
    "\n",
    "# Specify model name\n",
    "root_name = 'model_bert'\n",
    "model_file_name = root_name + '_' + str(SPLIT_TRAIN_SIZE) + '_'\n",
    "model_name = model_file_name + 'epoch_' + str(EPOCHS) + \".h5\""
   ]
  },
  {
   "cell_type": "code",
   "execution_count": 12,
   "metadata": {
    "colab": {
     "base_uri": "https://localhost:8080/",
     "height": 54
    },
    "colab_type": "code",
    "id": "IzSF2HJi5XsY",
    "outputId": "3dd8ac00-17fd-4bbd-ce9a-53b1623ea8ba"
   },
   "outputs": [
    {
     "name": "stdout",
     "output_type": "stream",
     "text": [
      "Epoch 1/4\n",
      "2500/2500 [==============================] - 813s 325ms/step - loss: 0.2561 - accuracy: 0.8960\n",
      "Epoch 2/4\n",
      "2500/2500 [==============================] - 815s 326ms/step - loss: 0.1306 - accuracy: 0.9540\n",
      "Epoch 3/4\n",
      "2500/2500 [==============================] - 816s 326ms/step - loss: 0.0708 - accuracy: 0.9774\n",
      "Epoch 4/4\n",
      "2500/2500 [==============================] - 815s 326ms/step - loss: 0.0455 - accuracy: 0.9850\n",
      "dict_keys(['loss', 'accuracy'])\n"
     ]
    },
    {
     "data": {
      "image/png": "[encoded data removed]",
      "text/plain": [
       "<Figure size 432x288 with 1 Axes>"
      ]
     },
     "metadata": {
      "needs_background": "light"
     },
     "output_type": "display_data"
    },
    {
     "data": {
      "image/png": "[encoded data removed]",
      "text/plain": [
       "<Figure size 432x288 with 1 Axes>"
      ]
     },
     "metadata": {
      "needs_background": "light"
     },
     "output_type": "display_data"
    }
   ],
   "source": [
    "#Train the model\n",
    "\n",
    "#Use Adam optimizer to minimize the categorical_crossentropy loss\n",
    "opt = Adam(learning_rate=LRATE)\n",
    "\n",
    "model.compile(optimizer=opt, \n",
    "              loss=LOSS,\n",
    "              metrics=[METRICS])\n",
    "\n",
    "# Fit the data to the model\n",
    "history = model.fit(x_train, y_train,\n",
    "                    epochs=EPOCHS,\n",
    "                    batch_size=BATCH_SIZE,\n",
    "                    verbose = 1)\n",
    "\n",
    "\n",
    "# Save the trained model\n",
    "model.save(model_name)\n",
    "model_utils.get_history(history)"
   ]
  },
  {
   "cell_type": "raw",
   "metadata": {
    "colab_type": "text",
    "id": "toHq_3_Am6if"
   },
   "source": [
    "## Run Predictions and Output Predictions"
   ]
  },
  {
   "cell_type": "code",
   "execution_count": 13,
   "metadata": {},
   "outputs": [
    {
     "name": "stderr",
     "output_type": "stream",
     "text": [
      "100%|██████████| 5000/5000 [00:17<00:00, 292.71it/s]\n"
     ]
    }
   ],
   "source": [
    "test_data = text_test, label_test, df_fit_test = imdb.get_fit_data(df_test, False)\n",
    "# Use 5K split train data as test data to get predictions\n",
    "test_final_data = train_data[0][SPLIT_TRAIN_SIZE:], train_data[1][SPLIT_TRAIN_SIZE:], train_data[2][SPLIT_TRAIN_SIZE:]\n",
    "\n",
    "x_test = x_input1, x_input2, x_input3 = iBert.convert_sentences_to_features(test_final_data[0], tokenizer)\n",
    "y_test = test_final_data[1]"
   ]
  },
  {
   "cell_type": "code",
   "execution_count": 14,
   "metadata": {},
   "outputs": [
    {
     "name": "stdout",
     "output_type": "stream",
     "text": [
      "40/40 [==============================] - 63s 2s/step - loss: 0.3307 - accuracy: 0.9270\n",
      "[0.33069083094596863, 0.9269999861717224]\n",
      "              precision    recall  f1-score   support\n",
      "\n",
      "           0     0.9140    0.9422    0.9279      2492\n",
      "           1     0.9408    0.9119    0.9261      2508\n",
      "\n",
      "    accuracy                         0.9270      5000\n",
      "   macro avg     0.9274    0.9270    0.9270      5000\n",
      "weighted avg     0.9274    0.9270    0.9270      5000\n",
      "\n"
     ]
    }
   ],
   "source": [
    "# Get predictions for test data\n",
    "prediction_prob = model_utils.get_model_performance(model_name, x_test, y_test, 128)"
   ]
  },
  {
   "cell_type": "code",
   "execution_count": 15,
   "metadata": {},
   "outputs": [],
   "source": [
    "# Create prediction output for 5K from split train\n",
    "result_file_root_name = root_name + '_result'\n",
    "run_type = 2 #split run\n",
    "model_utils.output_result(test_final_data[2], result_file_root_name, run_type, prediction_prob, SPLIT_TRAIN_SIZE)"
   ]
  },
  {
   "cell_type": "code",
   "execution_count": 16,
   "metadata": {},
   "outputs": [
    {
     "name": "stderr",
     "output_type": "stream",
     "text": [
      "100%|██████████| 25000/25000 [01:23<00:00, 299.36it/s]\n"
     ]
    },
    {
     "name": "stdout",
     "output_type": "stream",
     "text": [
      "196/196 [==============================] - 322s 2s/step - loss: 0.3204 - accuracy: 0.9300\n",
      "[0.3204316794872284, 0.9299600124359131]\n",
      "              precision    recall  f1-score   support\n",
      "\n",
      "           0     0.9171    0.9454    0.9310     12500\n",
      "           1     0.9436    0.9146    0.9289     12500\n",
      "\n",
      "    accuracy                         0.9300     25000\n",
      "   macro avg     0.9304    0.9300    0.9299     25000\n",
      "weighted avg     0.9304    0.9300    0.9299     25000\n",
      "\n"
     ]
    },
    {
     "data": {
      "image/png": "[encoded data removed]",
      "text/plain": [
       "<Figure size 432x288 with 1 Axes>"
      ]
     },
     "metadata": {
      "needs_background": "light"
     },
     "output_type": "display_data"
    }
   ],
   "source": [
    "# Run prediction for 25k test data \n",
    "x_test = x_input1, x_input2, x_input3 = iBert.convert_sentences_to_features(test_data[0], tokenizer)\n",
    "y_test = test_data[1]\n",
    "plt.pcolormesh(y_test)\n",
    "prediction_prob = model_utils.get_model_performance(model_name, x_test, y_test, 128)"
   ]
  },
  {
   "cell_type": "code",
   "execution_count": 17,
   "metadata": {},
   "outputs": [],
   "source": [
    "# Create prediction output for 25K test\n",
    "model_utils.output_result(test_data[2], result_file_root_name,run_type, prediction_prob, SPLIT_TRAIN_SIZE)"
   ]
  },
  {
   "cell_type": "code",
   "execution_count": 18,
   "metadata": {},
   "outputs": [],
   "source": [
    "# Rename files for SSNet combiners\n",
    "import os\n",
    "os.rename(r'model_bert_result_split_25000_20000.csv',r'model_3_25ktest.csv')\n",
    "os.rename(r'model_bert_result_split_5000_20000.csv',r'model_3_5ktrain.csv')"
   ]
  }
 ],
 "metadata": {
  "accelerator": "GPU",
  "colab": {
   "machine_shape": "hm",
   "name": "TensorFlow2_BERT_Sentiment_Analysis.ipynb",
   "provenance": [],
   "toc_visible": true
  },
  "kernelspec": {
   "display_name": "Python 3",
   "language": "python",
   "name": "python3"
  },
  "language_info": {
   "codemirror_mode": {
    "name": "ipython",
    "version": 3
   },
   "file_extension": ".py",
   "mimetype": "text/x-python",
   "name": "python",
   "nbconvert_exporter": "python",
   "pygments_lexer": "ipython3",
   "version": "3.9.4"
  }
 },
 "nbformat": 4,
 "nbformat_minor": 4
}
