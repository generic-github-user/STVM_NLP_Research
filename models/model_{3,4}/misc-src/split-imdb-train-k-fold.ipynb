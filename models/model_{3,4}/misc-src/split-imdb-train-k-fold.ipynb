{
 "cells": [
  {
   "cell_type": "code",
   "execution_count": 112,
   "metadata": {},
   "outputs": [],
   "source": [
    "import pandas as pd\n",
    "import numpy as np\n",
    "# import matplotlib.pyplot as plt\n",
    "# from numpy import mean\n",
    "# from numpy import std\n",
    "# from matplotlib import pyplot\n",
    "from sklearn.model_selection import KFold"
   ]
  },
  {
   "cell_type": "code",
   "execution_count": 113,
   "metadata": {},
   "outputs": [],
   "source": [
    "import sys\n",
    "sys.path.append(\"../helpers\")\n",
    "import imdb_preprocess_functions as nist_imdb"
   ]
  },
  {
   "cell_type": "code",
   "execution_count": 114,
   "metadata": {},
   "outputs": [
    {
     "name": "stdout",
     "output_type": "stream",
     "text": [
      "The number of rows and columns in the training dataset is: (25000, 5)\n",
      "Missing values in train dataset:\n",
      "Unnamed: 0    0\n",
      "type          0\n",
      "review        0\n",
      "label         0\n",
      "file          0\n",
      "dtype: int64\n",
      "Check train class balance\n",
      "1.0    12500\n",
      "0.0    12500\n",
      "Name: label, dtype: int64\n",
      "The number of rows and columns in the test dataset is: (25000, 5)\n",
      "Missing values in test dataset:\n",
      "Unnamed: 0    0\n",
      "type          0\n",
      "review        0\n",
      "label         0\n",
      "file          0\n",
      "dtype: int64\n",
      "Check test class balance\n",
      "1.0    12500\n",
      "0.0    12500\n",
      "Name: label, dtype: int64\n"
     ]
    }
   ],
   "source": [
    "# Now load the Stanford IMDB training and test dataset.\n",
    "[df_train, df_test] = nist_imdb.get_imdb_df_data('../data/imdb_master.csv')\n",
    "df_train = pd.DataFrame(df_train, columns = [nist_imdb.text_column, nist_imdb.label_column, nist_imdb.file_column])\n",
    "# # Shuffle the dataset\n",
    "# df = df_train.sample(frac=1, random_state=0)\n",
    "# df_train.head"
   ]
  },
  {
   "cell_type": "code",
   "execution_count": 115,
   "metadata": {},
   "outputs": [],
   "source": [
    "# Set k in k-fold\n",
    "n_folds =  5"
   ]
  },
  {
   "cell_type": "code",
   "execution_count": 116,
   "metadata": {},
   "outputs": [],
   "source": [
    "# prepare cross validation\n",
    "kfold = KFold(n_folds, shuffle=True, random_state=1)"
   ]
  },
  {
   "cell_type": "code",
   "execution_count": 117,
   "metadata": {},
   "outputs": [
    {
     "name": "stdout",
     "output_type": "stream",
     "text": [
      "label\n",
      "0.0      2517\n",
      "1.0      2483\n",
      "dtype: int64\n",
      "label\n",
      "0.0      2527\n",
      "1.0      2473\n",
      "dtype: int64\n",
      "label\n",
      "1.0      2511\n",
      "0.0      2489\n",
      "dtype: int64\n",
      "label\n",
      "1.0      2563\n",
      "0.0      2437\n",
      "dtype: int64\n",
      "label\n",
      "0.0      2530\n",
      "1.0      2470\n",
      "dtype: int64\n"
     ]
    }
   ],
   "source": [
    "# create splits and process each fold in training data\n",
    "train_name = \"tr_tr_20k_fold_\"\n",
    "test_name = \"tr_te_5k_fold_\"\n",
    "# loop each fold\n",
    "i = 0\n",
    "for train_idx, test_idx in kfold.split(df_train):\n",
    "    i +=1\n",
    "    train, test = df_train.iloc[train_idx], df_train.iloc[test_idx]\n",
    "    # check class balance\n",
    "    print(test.loc[:, [\"label\"]].value_counts())\n",
    "    # create output files\n",
    "    file_name = train_name + str(i) + \".csv\"\n",
    "    train.to_csv(file_name, index=False)\n",
    "    file_name = test_name + str(i) + \".csv\"\n",
    "    test.to_csv(file_name, index=False)"
   ]
  }
 ],
 "metadata": {
  "kernelspec": {
   "display_name": "Projects-conda-env-kernel",
   "language": "python",
   "name": "projects-conda-env-kernel"
  },
  "language_info": {
   "codemirror_mode": {
    "name": "ipython",
    "version": 3
   },
   "file_extension": ".py",
   "mimetype": "text/x-python",
   "name": "python",
   "nbconvert_exporter": "python",
   "pygments_lexer": "ipython3",
   "version": "3.8.5"
  }
 },
 "nbformat": 4,
 "nbformat_minor": 4
}
