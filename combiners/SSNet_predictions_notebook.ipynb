{
 "cells": [
  {
   "cell_type": "markdown",
   "id": "f2128fff-6647-439e-aeed-3d6036759c90",
   "metadata": {},
   "source": [
    "# SSNet Predictions\n",
    "\n",
    "This notebook is meant for hands-on interaction with the code and data used in `SSNet_predictions.py`. Annotations explaining the general functioning of each section and the other modules they reference are provided. Similar notebooks may be added for individual models and combiners in the future. Note that the code shown here does not necessarily reflect the content of the script version."
   ]
  },
  {
   "cell_type": "markdown",
   "id": "70050e31-7d4b-4f80-82f1-0ce7d54b72bc",
   "metadata": {},
   "source": [
    "# License"
   ]
  },
  {
   "cell_type": "code",
   "execution_count": 5,
   "id": "365f9f09-7fa7-4a5d-982f-92c3a77f3e76",
   "metadata": {},
   "outputs": [
    {
     "data": {
      "text/plain": [
       "'\\nThis is master file that runs all the three combiners proposed in the paper. \\nUse following snippet to run all the three combiners: python SSNet_predictions.py\\nPlease note that this code has tensorflow dependencies.\\n'"
      ]
     },
     "execution_count": 5,
     "metadata": {},
     "output_type": "execute_result"
    }
   ],
   "source": [
    "'''\n",
    "==================================================LICENSING TERMS==================================================\n",
    "This code and data was developed by employees of the National Institute of Standards and Technology (NIST), an agency of the Federal Government. Pursuant to title 17 United States Code Section 105, works of NIST employees are not subject to copyright protection in the United States and are considered to be in the public domain. The code and data is provided by NIST as a public service and is expressly provided \"AS IS.\" NIST MAKES NO WARRANTY OF ANY KIND, EXPRESS, IMPLIED OR STATUTORY, INCLUDING, WITHOUT LIMITATION, THE IMPLIED WARRANTY OF MERCHANTABILITY, FITNESS FOR A PARTICULAR PURPOSE, NON-INFRINGEMENT AND DATA ACCURACY. NIST does not warrant or make any representations regarding the use of the data or the results thereof, including but not limited to the correctness, accuracy, reliability or usefulness of the data. NIST SHALL NOT BE LIABLE AND YOU HEREBY RELEASE NIST FROM LIABILITY FOR ANY INDIRECT, CONSEQUENTIAL, SPECIAL, OR INCIDENTAL DAMAGES (INCLUDING DAMAGES FOR LOSS OF BUSINESS PROFITS, BUSINESS INTERRUPTION, LOSS OF BUSINESS INFORMATION, AND THE LIKE), WHETHER ARISING IN TORT, CONTRACT, OR OTHERWISE, ARISING FROM OR RELATING TO THE DATA (OR THE USE OF OR INABILITY TO USE THIS DATA), EVEN IF NIST HAS BEEN ADVISED OF THE POSSIBILITY OF SUCH DAMAGES.\n",
    "To the extent that NIST may hold copyright in countries other than the United States, you are hereby granted the non-exclusive irrevocable and unconditional right to print, publish, prepare derivative works and distribute the NIST data, in any medium, or authorize others to do so on your behalf, on a royalty-free basis throughout the world.\n",
    "You may improve, modify, and create derivative works of the code or the data or any portion of the code or the data, and you may copy and distribute such modifications or works. Modified works should carry a notice stating that you changed the code or the data and should note the date and nature of any such change. Please explicitly acknowledge the National Institute of Standards and Technology as the source of the code or the data: Citation recommendations are provided below. Permission to use this code and data is contingent upon your acceptance of the terms of this agreement and upon your providing appropriate acknowledgments of NIST's creation of the code and data.\n",
    "Paper Title:\n",
    "    SSNet: a Sagittal Stratum-inspired Neural Network Framework for Sentiment Analysis\n",
    "SSNet authors and developers:\n",
    "    Apostol Vassilev:\n",
    "        Affiliation: National Institute of Standards and Technology\n",
    "        Email: apostol.vassilev@nist.gov\n",
    "    Munawar Hasan:\n",
    "        Affiliation: National Institute of Standards and Technology\n",
    "        Email: munawar.hasan@nist.gov\n",
    "    Jin Honglan\n",
    "        Affiliation: National Institute of Standards and Technology\n",
    "        Email: honglan.jin@nist.gov\n",
    "====================================================================================================================\n",
    "'''\n",
    "\n",
    "'''\n",
    "This is master file that runs all the three combiners proposed in the paper. \n",
    "Use following snippet to run all the three combiners: python SSNet_predictions.py\n",
    "Please note that this code has tensorflow dependencies.\n",
    "'''"
   ]
  },
 ],
 "metadata": {
  "kernelspec": {
   "display_name": "Python 3",
   "language": "python",
   "name": "python3"
  },
  "language_info": {
   "codemirror_mode": {
    "name": "ipython",
    "version": 3
   },
   "file_extension": ".py",
   "mimetype": "text/x-python",
   "name": "python",
   "nbconvert_exporter": "python",
   "pygments_lexer": "ipython3",
   "version": "3.9.4"
  },
  "toc-showcode": false
 },
 "nbformat": 4,
 "nbformat_minor": 5
}
