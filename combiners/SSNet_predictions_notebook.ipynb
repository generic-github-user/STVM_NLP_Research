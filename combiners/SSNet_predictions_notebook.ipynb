{
 "cells": [
  {
   "cell_type": "markdown",
   "id": "f2128fff-6647-439e-aeed-3d6036759c90",
   "metadata": {},
   "source": [
    "# SSNet Predictions\n",
    "\n",
    "This notebook is meant for hands-on interaction with the code and data used in `SSNet_predictions.py`. Annotations explaining the general functioning of each section and the other modules they reference are provided. Similar notebooks may be added for individual models and combiners in the future. Note that the code shown here does not necessarily reflect the content of the script version."
   ]
  },
  {
   "cell_type": "markdown",
   "id": "70050e31-7d4b-4f80-82f1-0ce7d54b72bc",
   "metadata": {},
   "source": [
    "# License"
   ]
  },
  {
   "cell_type": "code",
   "execution_count": 1,
   "id": "365f9f09-7fa7-4a5d-982f-92c3a77f3e76",
   "metadata": {},
   "outputs": [
    {
     "data": {
      "text/plain": [
       "'\\nThis is master file that runs all the three combiners proposed in the paper. \\nUse following snippet to run all the three combiners: python SSNet_predictions.py\\nPlease note that this code has tensorflow dependencies.\\n'"
      ]
     },
     "execution_count": 1,
     "metadata": {},
     "output_type": "execute_result"
    }
   ],
   "source": [
    "'''\n",
    "==================================================LICENSING TERMS==================================================\n",
    "This code and data was developed by employees of the National Institute of Standards and Technology (NIST), an agency of the Federal Government. Pursuant to title 17 United States Code Section 105, works of NIST employees are not subject to copyright protection in the United States and are considered to be in the public domain. The code and data is provided by NIST as a public service and is expressly provided \"AS IS.\" NIST MAKES NO WARRANTY OF ANY KIND, EXPRESS, IMPLIED OR STATUTORY, INCLUDING, WITHOUT LIMITATION, THE IMPLIED WARRANTY OF MERCHANTABILITY, FITNESS FOR A PARTICULAR PURPOSE, NON-INFRINGEMENT AND DATA ACCURACY. NIST does not warrant or make any representations regarding the use of the data or the results thereof, including but not limited to the correctness, accuracy, reliability or usefulness of the data. NIST SHALL NOT BE LIABLE AND YOU HEREBY RELEASE NIST FROM LIABILITY FOR ANY INDIRECT, CONSEQUENTIAL, SPECIAL, OR INCIDENTAL DAMAGES (INCLUDING DAMAGES FOR LOSS OF BUSINESS PROFITS, BUSINESS INTERRUPTION, LOSS OF BUSINESS INFORMATION, AND THE LIKE), WHETHER ARISING IN TORT, CONTRACT, OR OTHERWISE, ARISING FROM OR RELATING TO THE DATA (OR THE USE OF OR INABILITY TO USE THIS DATA), EVEN IF NIST HAS BEEN ADVISED OF THE POSSIBILITY OF SUCH DAMAGES.\n",
    "To the extent that NIST may hold copyright in countries other than the United States, you are hereby granted the non-exclusive irrevocable and unconditional right to print, publish, prepare derivative works and distribute the NIST data, in any medium, or authorize others to do so on your behalf, on a royalty-free basis throughout the world.\n",
    "You may improve, modify, and create derivative works of the code or the data or any portion of the code or the data, and you may copy and distribute such modifications or works. Modified works should carry a notice stating that you changed the code or the data and should note the date and nature of any such change. Please explicitly acknowledge the National Institute of Standards and Technology as the source of the code or the data: Citation recommendations are provided below. Permission to use this code and data is contingent upon your acceptance of the terms of this agreement and upon your providing appropriate acknowledgments of NIST's creation of the code and data.\n",
    "Paper Title:\n",
    "    SSNet: a Sagittal Stratum-inspired Neural Network Framework for Sentiment Analysis\n",
    "SSNet authors and developers:\n",
    "    Apostol Vassilev:\n",
    "        Affiliation: National Institute of Standards and Technology\n",
    "        Email: apostol.vassilev@nist.gov\n",
    "    Munawar Hasan:\n",
    "        Affiliation: National Institute of Standards and Technology\n",
    "        Email: munawar.hasan@nist.gov\n",
    "    Jin Honglan\n",
    "        Affiliation: National Institute of Standards and Technology\n",
    "        Email: honglan.jin@nist.gov\n",
    "====================================================================================================================\n",
    "'''\n",
    "\n",
    "'''\n",
    "This is master file that runs all the three combiners proposed in the paper. \n",
    "Use following snippet to run all the three combiners: python SSNet_predictions.py\n",
    "Please note that this code has tensorflow dependencies.\n",
    "'''"
   ]
  },
  {
   "cell_type": "markdown",
   "id": "d92fd944-e689-4daa-a782-915db10f206e",
   "metadata": {},
   "source": [
    "## Imports/Dependencies\n",
    "\n",
    "TensorFlow is the main machine learning framework used to implement, train, and apply the models. Pandas and NumPy are used for general data preprocessing and manipulation. Components from Matplotlib/Pyplot and IPython which are absent from `SSNet_predictions.py` are utilized here to provide enhanced interactivity and visualization. Functions from the following scripts (corresponding to the combiner models described in the paper) are imported:\n",
    " - `SSNet_Neural_Network.py`\n",
    " - `SSNet_Bayesian_Decision.py`\n",
    " - `SSNet_Heuristic_Hybrid.py`"
   ]
  },
  {
   "cell_type": "code",
   "execution_count": 13,
   "id": "9ae03c1f-dd3f-472d-bfcd-1b4c389fe4ea",
   "metadata": {},
   "outputs": [],
   "source": [
    "import tensorflow as tf\n",
    "import math\n",
    "import re\n",
    "\n",
    "import pandas as pd\n",
    "import numpy as np\n",
    "import random\n",
    "import os\n",
    "import csv\n",
    "\n",
    "import matplotlib.pyplot as plt\n",
    "from IPython.display import JSON\n",
    "import itertools\n",
    "\n",
    "from SSNet_Neural_Network import nn\n",
    "from SSNet_Bayesian_Decision import bayesian_decision\n",
    "from SSNet_Heuristic_Hybrid import heuristic_hybrid"
   ]
  },
  {
   "cell_type": "code",
   "execution_count": 2,
   "id": "3f451afe-7bd7-4850-80d9-20e722514919",
   "metadata": {},
   "outputs": [],
   "source": [
    "imdb_5ktr = 'imdb_train_5k.csv'\n",
    "model_a_tr = 'model_1_5ktrain.csv'\n",
    "model_b_tr = 'model_2_5ktrain.csv'\n",
    "# model_c_tr = 'model_3_bert_result_train_5k.csv'\n",
    "# model_d_tr = 'model_4_use_result_train_5k.csv'\n",
    "model_c_tr = 'model_3_5ktrain.csv'\n",
    "model_d_tr = 'model_4_5ktrain.csv'\n",
    "\n",
    "model_a_te = 'model_1_25ktest.csv'\n",
    "model_b_te = 'model_2_25ktest.csv'\n",
    "# model_c_te = 'model_3_bert_result_test_25k.csv'\n",
    "# model_d_te = 'model_4_use_result_test_25k.csv'\n",
    "model_c_te = 'model_3_25ktest.csv'\n",
    "model_d_te = 'model_4_25ktest.csv'"
   ]
  },
  {
   "cell_type": "markdown",
   "id": "d67dc15d-759a-44c6-996c-1e7552d3ba81",
   "metadata": {},
   "source": [
    "## Utilities"
   ]
  },
  {
   "cell_type": "markdown",
   "id": "1effdb21-842a-4141-ad5a-3ae4f9e5777a",
   "metadata": {},
   "source": [
    "### Training Dict Threshold"
   ]
  },
  {
   "cell_type": "code",
   "execution_count": 3,
   "id": "5e5e7a31-3838-4e40-be2c-1836d48fd708",
   "metadata": {},
   "outputs": [],
   "source": [
    "def get_training_dict_threshold(split):\n",
    "    training_dict = dict()\n",
    "\n",
    "    if split == \"5K\":\n",
    "        training_dict[\"5K\"] = [\n",
    "            [model_a_tr, model_b_tr, model_c_tr, model_d_tr], [\n",
    "                model_a_te, model_b_te, model_c_te, model_d_te]\n",
    "        ]\n",
    "        \n",
    "    return training_dict"
   ]
  },
  {
   "cell_type": "code",
   "execution_count": 4,
   "id": "fbd0ec35-8af4-45ab-9b4b-faf4a40fde83",
   "metadata": {},
   "outputs": [
    {
     "data": {
      "text/plain": [
       "[('1', '2'), ('1', '3'), ('1', '4'), ('2', '3'), ('2', '4'), ('3', '4')]"
      ]
     },
     "execution_count": 4,
     "metadata": {},
     "output_type": "execute_result"
    }
   ],
   "source": [
    "list(itertools.combinations('1234', 2))"
   ]
  },
  {
   "cell_type": "markdown",
   "id": "284fb2fc-2920-406e-9c66-d3bffdc2baf0",
   "metadata": {},
   "source": [
    "### Training Dictionary"
   ]
  },
  {
   "cell_type": "code",
   "execution_count": 5,
   "id": "2d4c530b-93cd-4717-83cd-bcc81a712bbc",
   "metadata": {},
   "outputs": [
    {
     "data": {
      "application/json": {
       "model_{1,2,3,4}": [
        [
         "model_1_5ktrain.csv",
         "model_2_5ktrain.csv",
         "model_3_5ktrain.csv",
         "model_4_5ktrain.csv"
        ],
        [
         "model_1_25ktest.csv",
         "model_2_25ktest.csv",
         "model_3_25ktest.csv",
         "model_4_25ktest.csv"
        ]
       ],
       "model_{1,2,3}": [
        [
         "model_1_5ktrain.csv",
         "model_2_5ktrain.csv",
         "model_3_5ktrain.csv"
        ],
        [
         "model_1_25ktest.csv",
         "model_2_25ktest.csv",
         "model_3_25ktest.csv"
        ]
       ],
       "model_{1,2,4}": [
        [
         "model_1_5ktrain.csv",
         "model_2_5ktrain.csv",
         "model_4_5ktrain.csv"
        ],
        [
         "model_1_25ktest.csv",
         "model_2_25ktest.csv",
         "model_4_25ktest.csv"
        ]
       ],
       "model_{1,2}": [
        [
         "model_1_5ktrain.csv",
         "model_2_5ktrain.csv"
        ],
        [
         "model_1_25ktest.csv",
         "model_2_25ktest.csv"
        ]
       ],
       "model_{1,3,4}": [
        [
         "model_1_5ktrain.csv",
         "model_3_5ktrain.csv",
         "model_4_5ktrain.csv"
        ],
        [
         "model_1_25ktest.csv",
         "model_3_25ktest.csv",
         "model_4_25ktest.csv"
        ]
       ],
       "model_{1,3}": [
        [
         "model_1_5ktrain.csv",
         "model_3_5ktrain.csv"
        ],
        [
         "model_1_25ktest.csv",
         "model_3_25ktest.csv"
        ]
       ],
       "model_{1,4}": [
        [
         "model_1_5ktrain.csv",
         "model_4_5ktrain.csv"
        ],
        [
         "model_1_25ktest.csv",
         "model_4_25ktest.csv"
        ]
       ],
       "model_{2,3,4}": [
        [
         "model_2_5ktrain.csv",
         "model_3_5ktrain.csv",
         "model_4_5ktrain.csv"
        ],
        [
         "model_2_25ktest.csv",
         "model_3_25ktest.csv",
         "model_4_25ktest.csv"
        ]
       ],
       "model_{2,3}": [
        [
         "model_2_5ktrain.csv",
         "model_3_5ktrain.csv"
        ],
        [
         "model_2_25ktest.csv",
         "model_3_25ktest.csv"
        ]
       ],
       "model_{2,4}": [
        [
         "model_2_5ktrain.csv",
         "model_4_5ktrain.csv"
        ],
        [
         "model_2_25ktest.csv",
         "model_4_25ktest.csv"
        ]
       ],
       "model_{3,4}": [
        [
         "model_3_5ktrain.csv",
         "model_4_5ktrain.csv"
        ],
        [
         "model_3_25ktest.csv",
         "model_4_25ktest.csv"
        ]
       ]
      },
      "text/plain": [
       "<IPython.core.display.JSON object>"
      ]
     },
     "execution_count": 5,
     "metadata": {
      "application/json": {
       "expanded": false,
       "root": "root"
      }
     },
     "output_type": "execute_result"
    }
   ],
   "source": [
    "def get_training_dict(split):\n",
    "    training_dict = dict()\n",
    "#     Store a running list of model combinations\n",
    "#     included_models = []\n",
    "    if split == \"5K\":\n",
    "#         Loop through integers 2 to 4 (inclusive); the number of component models in each combination\n",
    "        for r in range(2, 5):\n",
    "#             Generate combinations of model indices (without repetition)\n",
    "            for c in itertools.combinations(map(str, range(1, 5)), r):\n",
    "                training_dict['model_{{{}}}'.format(','.join(c))] = [\n",
    "#                     Generate the file names corresponding to each model's output on both the training and testing data\n",
    "                    [f'model_{m}_{n}{t}.csv' for m in c] for n, t in [\n",
    "                        ('5k', 'train'),\n",
    "                        ('25k', 'test')\n",
    "                    ]\n",
    "                ]\n",
    "\n",
    "    return training_dict\n",
    "\n",
    "# Test the function\n",
    "JSON(get_training_dict(\"5K\"))"
   ]
  },
  {
   "cell_type": "code",
   "execution_count": 6,
   "id": "07e7f04a-645d-4344-8712-e2146481938d",
   "metadata": {},
   "outputs": [],
   "source": [
    "imdb_25k_list = list()\n",
    "data_dir = 'models/train'\n",
    "for file_name in os.listdir(f'../{data_dir}/pos'):\n",
    "    if file_name != '.DS_Store':\n",
    "        imdb_25k_list.append([file_name, str(1)])\n",
    "\n",
    "for file_name in os.listdir(f'../{data_dir}/neg'):\n",
    "    if file_name != '.DS_Store':\n",
    "        imdb_25k_list.append([file_name, str(0)])\n",
    "\n",
    "SAMPLE_SPLIT = [\"5K\"]"
   ]
  },
  {
   "cell_type": "code",
   "execution_count": 7,
   "id": "0d4cbe7d-9ebb-4a4a-a619-7376d1c4d726",
   "metadata": {},
   "outputs": [],
   "source": [
    "model_weights = []"
   ]
  },
  {
   "cell_type": "markdown",
   "id": "6789679a-0be1-4a61-8351-9cfefd494764",
   "metadata": {},
   "source": [
    "## Train Predictors\n",
    "\n",
    "Train the predictors and return the results."
   ]
  },
  {
   "cell_type": "code",
   "execution_count": 8,
   "id": "a72be80b-83e6-4c09-b353-c7c44f75bd8c",
   "metadata": {},
   "outputs": [],
   "source": [
    "def train_predictor():\n",
    "    for split in SAMPLE_SPLIT:\n",
    "        print(\"Sample Split: \", split)\n",
    "        imdb_list = list()\n",
    "        training_dict = None\n",
    "        training_dict_threshold = None\n",
    "\n",
    "        if split == \"5K\":\n",
    "            df_imdb_tr = pd.read_csv(imdb_5ktr)\n",
    "            for index in df_imdb_tr.index:\n",
    "                file_name = str(df_imdb_tr['file'][index])\n",
    "                label = int(df_imdb_tr['label'][index])\n",
    "                imdb_list.append([file_name, str(label)])\n",
    "\n",
    "            random.shuffle(imdb_list)\n",
    "            training_dict = get_training_dict(split)\n",
    "            training_dict_threshold = get_training_dict_threshold(split)\n",
    "\n",
    "            random.shuffle(imdb_list)\n",
    "            training_dict = get_training_dict(split)\n",
    "            training_dict_threshold = get_training_dict_threshold(split)\n",
    "\n",
    "\n",
    "        acc_dict_nn = dict()\n",
    "        acc_dict_bdc = dict()\n",
    "\n",
    "        for k, v in training_dict.items():\n",
    "\n",
    "            tr_list = list()\n",
    "            te_list = list()\n",
    "\n",
    "            for i in range(len(v[0])):\n",
    "                df = pd.read_csv(v[0][i])\n",
    "                df_dict = dict()\n",
    "\n",
    "                for idx in df.index:\n",
    "                    file_name = str(df['file'][idx])\n",
    "                    proba = float(df['prob'][idx])\n",
    "                    df_dict[file_name] = proba\n",
    "\n",
    "                tr_list.append(df_dict)\n",
    "\n",
    "            for i in range(len(v[1])):\n",
    "                df = pd.read_csv(v[1][i])\n",
    "                df_dict = dict()\n",
    "\n",
    "                for idx in df.index:\n",
    "                    file_name = str(df['file'][idx])\n",
    "                    proba = float(df['prob'][idx])\n",
    "                    df_dict[file_name] = proba\n",
    "\n",
    "                te_list.append(df_dict)\n",
    "\n",
    "\n",
    "            assert len(tr_list) == len(te_list), \"train and test samples mismatch ....\"\n",
    "            tr_acc = -1.\n",
    "            te_acc = -1.\n",
    "            while True:\n",
    "                tr_acc, te_acc, weights = nn(tr_list=tr_list, imdb_tr_list=imdb_list,\n",
    "                    te_list=te_list, imdb_te_list=imdb_25k_list)\n",
    "                model_weights.append(weights)\n",
    "\n",
    "                if weights[0][0] == 0. or weights[0][1] == 0.:\n",
    "                    print(\"bad event ...., training again\")\n",
    "                    print(\"\\t\" +k)\n",
    "                else:\n",
    "                    break\n",
    "\n",
    "            acc_dict_nn[k] = [tr_acc, te_acc]\n",
    "\n",
    "            acc_dict_bdc[k] = bayesian_decision(tr_list=tr_list, imdb_tr_list=imdb_list,\n",
    "                                             te_list=te_list, imdb_te_list=imdb_25k_list)\n",
    "\n",
    "\n",
    "        for k, v in training_dict_threshold.items():\n",
    "            tr_list = list()\n",
    "            te_list = list()\n",
    "\n",
    "            for i in range(len(v[0])):\n",
    "                df = pd.read_csv(v[0][i])\n",
    "                df_dict = dict()\n",
    "\n",
    "                for idx in df.index:\n",
    "                    file_name = str(df['file'][idx])\n",
    "                    proba = float(df['prob'][idx])\n",
    "                    df_dict[file_name] = proba\n",
    "\n",
    "                tr_list.append(df_dict)\n",
    "\n",
    "            for i in range(len(v[1])):\n",
    "                df = pd.read_csv(v[1][i])\n",
    "                df_dict = dict()\n",
    "\n",
    "                for idx in df.index:\n",
    "                    file_name = str(df['file'][idx])\n",
    "                    proba = float(df['prob'][idx])\n",
    "                    df_dict[file_name] = proba\n",
    "\n",
    "                te_list.append(df_dict)\n",
    "\n",
    "        hh_dict = heuristic_hybrid(tr_list=tr_list, imdb_tr_list=imdb_list,\n",
    "                        te_list=te_list, imdb_te_list=imdb_25k_list)\n",
    "\n",
    "        nn_metrics = []\n",
    "        #print(\"Training Complete: \")\n",
    "        print(\"Neural Network Combiner: \")\n",
    "        for k, v in acc_dict_nn.items():\n",
    "            print(\"\\t\" +k +\": training accuracy = \" +str(v[0]) + \", test accuracy = \" +str(v[1]))\n",
    "            nn_metrics.append(v)\n",
    "            \n",
    "        bdr_metrics = []\n",
    "        print(\"\\n\")\n",
    "        print(\"Bayesian Decision Rule Combiner: \")\n",
    "        for k, v in acc_dict_bdc.items():\n",
    "            print(\"\\t\" +k)\n",
    "            for i, j in v.items():\n",
    "                print(\"\\t\\t\" +i +\": training accuracy = \" +str(j[0]) +\", test accuracy = \" +str(j[1]))\n",
    "            bdr_metrics.append(v)\n",
    "        \n",
    "        hh_metrics = []\n",
    "        print(\"\\n\")\n",
    "        print(\"Heuristic-Hybrid Combiner: \")\n",
    "        for k, v in hh_dict.items():\n",
    "            print(\"Base:\", k)\n",
    "            for index in range(len(v)):\n",
    "                print(\"\\t\\t\", v[index])\n",
    "            print(\"\\n\")\n",
    "            hh_metrics.append(v)\n",
    "            \n",
    "        return nn_metrics, bdr_metrics, hh_metrics"
   ]
  },
  {
   "cell_type": "markdown",
   "id": "1918602a-a859-4ce2-a561-22a23da37641",
   "metadata": {},
   "source": [
    "## Result Aggregation\n",
    "\n",
    "Runs the predictor training script and displays the results"
   ]
  },
  {
   "cell_type": "code",
   "execution_count": 12,
   "id": "2fa7ac9d-9cd8-4539-9eef-ca4754d1e09a",
   "metadata": {},
   "outputs": [
    {
     "name": "stdout",
     "output_type": "stream",
     "text": [
      "Sample Split:  5K\n"
     ]
    },
    {
     "ename": "AssertionError",
     "evalue": "test mismatch samples",
     "output_type": "error",
     "traceback": [
      "\u001b[1;31m---------------------------------------------------------------------------\u001b[0m",
      "\u001b[1;31mAssertionError\u001b[0m                            Traceback (most recent call last)",
      "\u001b[1;32m<ipython-input-12-bdf3735b9242>\u001b[0m in \u001b[0;36m<module>\u001b[1;34m\u001b[0m\n\u001b[0;32m      1\u001b[0m \u001b[0mtrials\u001b[0m \u001b[1;33m=\u001b[0m \u001b[1;33m[\u001b[0m\u001b[1;33m]\u001b[0m\u001b[1;33m\u001b[0m\u001b[1;33m\u001b[0m\u001b[0m\n\u001b[0;32m      2\u001b[0m \u001b[1;32mfor\u001b[0m \u001b[0mi\u001b[0m \u001b[1;32min\u001b[0m \u001b[0mrange\u001b[0m\u001b[1;33m(\u001b[0m\u001b[1;36m1\u001b[0m\u001b[1;33m)\u001b[0m\u001b[1;33m:\u001b[0m\u001b[1;33m\u001b[0m\u001b[1;33m\u001b[0m\u001b[0m\n\u001b[1;32m----> 3\u001b[1;33m     \u001b[0mresults\u001b[0m \u001b[1;33m=\u001b[0m \u001b[0mtrain_predictor\u001b[0m\u001b[1;33m(\u001b[0m\u001b[1;33m)\u001b[0m\u001b[1;33m\u001b[0m\u001b[1;33m\u001b[0m\u001b[0m\n\u001b[0m\u001b[0;32m      4\u001b[0m     \u001b[0mtrials\u001b[0m\u001b[1;33m.\u001b[0m\u001b[0mappend\u001b[0m\u001b[1;33m(\u001b[0m\u001b[0mresults\u001b[0m\u001b[1;33m)\u001b[0m\u001b[1;33m\u001b[0m\u001b[1;33m\u001b[0m\u001b[0m\n",
      "\u001b[1;32m<ipython-input-8-e0f6097ca34f>\u001b[0m in \u001b[0;36mtrain_predictor\u001b[1;34m()\u001b[0m\n\u001b[0;32m     57\u001b[0m             \u001b[0mte_acc\u001b[0m \u001b[1;33m=\u001b[0m \u001b[1;33m-\u001b[0m\u001b[1;36m1.\u001b[0m\u001b[1;33m\u001b[0m\u001b[1;33m\u001b[0m\u001b[0m\n\u001b[0;32m     58\u001b[0m             \u001b[1;32mwhile\u001b[0m \u001b[1;32mTrue\u001b[0m\u001b[1;33m:\u001b[0m\u001b[1;33m\u001b[0m\u001b[1;33m\u001b[0m\u001b[0m\n\u001b[1;32m---> 59\u001b[1;33m                 tr_acc, te_acc, weights = nn(tr_list=tr_list, imdb_tr_list=imdb_list,\n\u001b[0m\u001b[0;32m     60\u001b[0m                     te_list=te_list, imdb_te_list=imdb_25k_list)\n\u001b[0;32m     61\u001b[0m                 \u001b[0mmodel_weights\u001b[0m\u001b[1;33m.\u001b[0m\u001b[0mappend\u001b[0m\u001b[1;33m(\u001b[0m\u001b[0mweights\u001b[0m\u001b[1;33m)\u001b[0m\u001b[1;33m\u001b[0m\u001b[1;33m\u001b[0m\u001b[0m\n",
      "\u001b[1;32m~\\Desktop\\NIST_2021\\STVM_NLP_Research\\combiners\\SSNet_Neural_Network.py\u001b[0m in \u001b[0;36mnn\u001b[1;34m(tr_list, imdb_tr_list, te_list, imdb_te_list)\u001b[0m\n\u001b[0;32m     82\u001b[0m \u001b[1;33m\u001b[0m\u001b[0m\n\u001b[0;32m     83\u001b[0m     \u001b[1;32mfor\u001b[0m \u001b[0midx\u001b[0m \u001b[1;32min\u001b[0m \u001b[0mrange\u001b[0m\u001b[1;33m(\u001b[0m\u001b[0mlen\u001b[0m\u001b[1;33m(\u001b[0m\u001b[0mte_list\u001b[0m\u001b[1;33m)\u001b[0m\u001b[1;33m)\u001b[0m\u001b[1;33m:\u001b[0m\u001b[1;33m\u001b[0m\u001b[1;33m\u001b[0m\u001b[0m\n\u001b[1;32m---> 84\u001b[1;33m         \u001b[1;32massert\u001b[0m \u001b[0mlen\u001b[0m\u001b[1;33m(\u001b[0m\u001b[0mte_list\u001b[0m\u001b[1;33m[\u001b[0m\u001b[0midx\u001b[0m\u001b[1;33m]\u001b[0m\u001b[1;33m)\u001b[0m \u001b[1;33m==\u001b[0m \u001b[0mTE_SAMPLE_SIZE\u001b[0m\u001b[1;33m,\u001b[0m \u001b[1;34m\"test mismatch samples\"\u001b[0m\u001b[1;33m\u001b[0m\u001b[1;33m\u001b[0m\u001b[0m\n\u001b[0m\u001b[0;32m     85\u001b[0m \u001b[1;33m\u001b[0m\u001b[0m\n\u001b[0;32m     86\u001b[0m \u001b[1;33m\u001b[0m\u001b[0m\n",
      "\u001b[1;31mAssertionError\u001b[0m: test mismatch samples"
     ]
    }
   ],
   "source": [
    "trials = []\n",
    "for i in range(1):\n",
    "    results = train_predictor()\n",
    "    trials.append(results)"
   ]
  },
  {
   "cell_type": "code",
   "execution_count": 12,
   "id": "7866bd82-1468-49cf-b3bf-49f24d4d9bf4",
   "metadata": {},
   "outputs": [],
   "source": [
    "def to_list(d):\n",
    "    L = [v for k, v in d.items()]\n",
    "    return L\n",
    "\n",
    "# Convert result dictionaries to lists\n",
    "for k, t in enumerate(trials):\n",
    "    for i in range(len(trials[k])):\n",
    "        for j, m in enumerate(trials[k][i]):\n",
    "        #     for k, v in m.items():\n",
    "            if type(m) is dict:\n",
    "                trials[k][i][j] = to_list(m)\n",
    "            for j2, m2 in enumerate(m):\n",
    "                if type(m2) is dict:\n",
    "                    trials[k][i][j][j2] = to_list(m2)"
   ]
  },
  {
   "cell_type": "code",
   "execution_count": 13,
   "id": "5397d6fe-5876-4f94-92f4-b479bf4f2aa9",
   "metadata": {},
   "outputs": [
    {
     "data": {
      "application/json": [
       [
        [
         [
          90.7800018787384,
          90.58800000000001
         ],
         [
          93.27999949455261,
          93.604
         ],
         [
          90.10000228881836,
          89.86
         ],
         [
          93.48000288009644,
          93.64
         ],
         [
          91.01999998092651,
          91
         ],
         [
          93.26000213623047,
          93.58800000000001
         ],
         [
          93.81999969482422,
          93.852
         ],
         [
          91.28000140190125,
          91.24799999999999
         ],
         [
          93.63999962806702,
          93.772
         ],
         [
          93.36000084877014,
          93.67999999999999
         ],
         [
          93.81999969482422,
          93.67999999999999
         ]
        ],
        [
         [
          [
           90.75999999999999,
           90.324
          ],
          [
           90.75999999999999,
           90.324
          ],
          [
           90.75999999999999,
           90.324
          ]
         ],
         [
          [
           93.7,
           93.512
          ],
          [
           93.7,
           93.512
          ],
          [
           93.7,
           93.512
          ]
         ],
         [
          [
           90.24,
           89.812
          ],
          [
           90.24,
           89.812
          ],
          [
           90.24,
           89.812
          ]
         ],
         [
          [
           93.04,
           93.508
          ],
          [
           93.04,
           93.508
          ],
          [
           93.04,
           93.508
          ]
         ],
         [
          [
           90.92,
           91.10000000000001
          ],
          [
           90.92,
           91.10000000000001
          ],
          [
           90.92,
           91.10000000000001
          ]
         ],
         [
          [
           92.66,
           92.92399999999999
          ],
          [
           92.66,
           92.92399999999999
          ],
          [
           92.66,
           92.92399999999999
          ]
         ],
         [
          [
           93.36,
           93.616
          ],
          [
           92.64,
           92.864
          ],
          [
           92.64,
           92.864
          ],
          [
           92.2,
           92.144
          ]
         ],
         [
          [
           91.3,
           91.18
          ],
          [
           90.86,
           91.06400000000001
          ],
          [
           90.86,
           91.06400000000001
          ],
          [
           90.60000000000001,
           90.668
          ]
         ],
         [
          [
           93.17999999999999,
           93.144
          ],
          [
           92.2,
           92.252
          ],
          [
           92.2,
           92.252
          ],
          [
           91.84,
           91.724
          ]
         ],
         [
          [
           92.82000000000001,
           93.33200000000001
          ],
          [
           92.86,
           92.896
          ],
          [
           92.86,
           92.896
          ],
          [
           92.47999999999999,
           92.528
          ]
         ],
         [
          [
           93.02,
           93.364
          ],
          [
           92.80000000000001,
           92.84400000000001
          ],
          [
           92.80000000000001,
           92.84400000000001
          ]
         ]
        ],
        [
         [
          [
           90.44,
           90.064,
           0.92
          ],
          [
           93.08,
           92.624,
           0.95
          ],
          [
           89.8,
           89.44800000000001,
           0.89
          ],
          [
           93.18,
           93.27600000000001,
           0.97
          ],
          [
           93.18,
           93.27600000000001,
           0.97
          ],
          [
           93.18,
           93.27600000000001,
           0.97
          ],
          [
           91.14,
           91.072,
           0.95
          ],
          [
           91.14,
           91.072,
           0.95
          ],
          [
           91.14,
           91.072,
           0.95
          ],
          [
           92.84,
           92.784,
           0.97
          ],
          [
           92.84,
           92.784,
           0.97
          ],
          [
           92.84,
           92.784,
           0.97
          ],
          [
           92.86,
           93.28,
           0.99
          ],
          [
           92.88,
           92.88,
           0.99
          ],
          [
           92.88,
           92.88,
           0.99
          ],
          [
           92.62,
           92.524,
           0.99
          ]
         ],
         [
          [
           90.28,
           90.076,
           0.82
          ],
          [
           92.72,
           92.708,
           0.97
          ],
          [
           90.9,
           90.672,
           0.84
          ],
          [
           93.42,
           93.408,
           0.99
          ],
          [
           93.42,
           93.408,
           0.99
          ],
          [
           93.42,
           93.408,
           0.99
          ],
          [
           91.14,
           90.924,
           0.95
          ],
          [
           91.14,
           90.924,
           0.95
          ],
          [
           91.14,
           90.924,
           0.95
          ],
          [
           92.7,
           92.892,
           0.98
          ],
          [
           92.7,
           92.892,
           0.98
          ],
          [
           92.7,
           92.892,
           0.98
          ],
          [
           93.02,
           93.144,
           0.99
          ],
          [
           92.32,
           92.376,
           0.97
          ],
          [
           92.32,
           92.376,
           0.97
          ],
          [
           92.06,
           91.988,
           0.97
          ]
         ],
         [
          [
           93.36,
           93.416,
           0.83
          ],
          [
           93.38,
           93.352,
           0.83
          ],
          [
           93,
           93.116,
           0.75
          ],
          [
           93.48,
           93.596,
           0.88
          ],
          [
           93.48,
           93.596,
           0.88
          ],
          [
           93.48,
           93.596,
           0.88
          ],
          [
           93.32,
           93.27600000000001,
           0.75
          ],
          [
           93.32,
           93.27600000000001,
           0.75
          ],
          [
           93.32,
           93.27600000000001,
           0.75
          ],
          [
           93.26,
           93.296,
           0.75
          ],
          [
           93.26,
           93.296,
           0.75
          ],
          [
           93.26,
           93.296,
           0.75
          ],
          [
           93.36,
           93.34,
           0.75
          ],
          [
           93.4,
           93.428,
           0.76
          ],
          [
           93.4,
           93.428,
           0.76
          ],
          [
           93.4,
           93.41199999999999,
           0.76
          ]
         ],
         [
          [
           89.78,
           89.676,
           0.94
          ],
          [
           90.66,
           90.436,
           0.93
          ],
          [
           92.74,
           92.572,
           0.99
          ],
          [
           91.08,
           90.80799999999999,
           0.99
          ],
          [
           91.08,
           90.80799999999999,
           0.99
          ],
          [
           91.08,
           90.80799999999999,
           0.99
          ],
          [
           93.42,
           93.07600000000001,
           0.99
          ],
          [
           93.42,
           93.07600000000001,
           0.99
          ],
          [
           93.42,
           93.07600000000001,
           0.99
          ],
          [
           92.96,
           93.05600000000001,
           0.99
          ],
          [
           92.96,
           93.05600000000001,
           0.99
          ],
          [
           92.96,
           93.05600000000001,
           0.99
          ],
          [
           93.12,
           93.128,
           0.99
          ],
          [
           92.56,
           92.56400000000001,
           0.99
          ],
          [
           92.56,
           92.56400000000001,
           0.99
          ],
          [
           92.2,
           92.032,
           0.99
          ]
         ]
        ]
       ]
      ],
      "text/plain": [
       "<IPython.core.display.JSON object>"
      ]
     },
     "execution_count": 13,
     "metadata": {
      "application/json": {
       "expanded": false,
       "root": "root"
      }
     },
     "output_type": "execute_result"
    }
   ],
   "source": [
    "JSON(list(trials))"
   ]
  },
  {
   "cell_type": "markdown",
   "id": "d742fcd4-1aad-4460-938b-8917b8cda2f4",
   "metadata": {},
   "source": [
    "## Visualization of Results"
   ]
  },
  {
   "cell_type": "code",
   "execution_count": 75,
   "id": "fb24cdfd-3a9c-4d4b-b6b3-01e8c067420b",
   "metadata": {},
   "outputs": [],
   "source": [
    "use_scienceplots = True"
   ]
  },
  {
   "cell_type": "code",
   "execution_count": 76,
   "id": "87b4c49d-224e-4bbb-a5be-fc2eaa4f0700",
   "metadata": {},
   "outputs": [],
   "source": [
    "b = trials[0][0]\n",
    "# print(trials[0][0])\n",
    "\n",
    "l = ['Train', 'Test']\n",
    "combiner_names = [\n",
    "    'Neural Network',\n",
    "    'Bayesian Decision Rule',\n",
    "    'Heuristic-Hybrid'\n",
    "]\n",
    "bdr_props = ['Max', 'Avg', 'Sum', 'Majority']\n",
    "hh_props = l + ['Threshold']\n",
    "label_data = [l, bdr_props, hh_props]\n",
    "\n",
    "# plot_style = 'ggplot'\n",
    "if use_scienceplots:\n",
    "    try:\n",
    "        plt.style.use('science')\n",
    "        plt.style.use(['science','no-latex'])\n",
    "    except:\n",
    "        pass\n",
    "plt.style.use('ggplot')\n",
    "\n",
    "def grouped_plot(C=0, sections=2, reduce=0):\n",
    "    labels = [x.split('_')[-1] for x in get_training_dict('5K').keys()]\n",
    "    values = trials[0][C]\n",
    "#     print(values)\n",
    "#     valshape = np.array(values).shape\n",
    "#     if len(valshape) == 3:\n",
    "#         values\n",
    "\n",
    "    reduced = False\n",
    "    combiner_type = combiner_names[C]\n",
    "    if 'Bayesian' in combiner_type:\n",
    "        for i, v in enumerate(values):\n",
    "            for j, vi in enumerate(v):\n",
    "                if type(vi) in [list, tuple]:\n",
    "                    values[i][j] = vi[reduce]\n",
    "    elif 'Heuristic' in combiner_type:\n",
    "#         print(values)\n",
    "        values = values[reduce]\n",
    "#         print(values)\n",
    "        \n",
    "    if any(g in combiner_type for g in ['Bayesian', 'Heuristic']):\n",
    "        reduced = True\n",
    "    # plt.bar(labels, trials[0][0])\n",
    "\n",
    "    pos = np.arange(len(labels))\n",
    "    fig, ax = plt.subplots(figsize=(10, 5))\n",
    "    \n",
    "#     sections = min(len(values[0]), sections)\n",
    "    sections = min(len(label_data[C]), sections)\n",
    "    for n in range(sections):\n",
    "        sections_ = min(len(values[0]), sections)\n",
    "        barwidth = (0.5/sections_)\n",
    "#         V = [x[n] if n <= len(x) else None for x in values]\n",
    "        V = []\n",
    "        for x in values:\n",
    "            try:\n",
    "                V.append(x[n])\n",
    "            except:\n",
    "                V.append(0)\n",
    "#         print(C, n, min(len(label_data[C]), n))\n",
    "        section_labels = label_data[C][min(len(label_data[C])-1, n)]\n",
    "        section_pos = pos+(barwidth*n)\n",
    "#         print(V, section_labels, section_pos, labels)\n",
    "        ax.bar(section_pos, V, barwidth, label=section_labels)\n",
    "\n",
    "#     ticks = pos-(barwidth*sections/4)\n",
    "    ticks = pos+(barwidth*round((sections-2)/2))\n",
    "    # print(ticks)\n",
    "    ax.set_xticks(ticks)\n",
    "    ax.set_xticklabels(labels)\n",
    "\n",
    "    ax.set_ylabel('Accuracy (%)')\n",
    "    ax.set_xlabel('Contributing Models')\n",
    "    \n",
    "    s = l[reduce] if reduced else ''\n",
    "    title = f'{combiner_names[C]} Combiner | {s} Accuracy by Model'\n",
    "    \n",
    "#         title += ' - '+l[reduce]\n",
    "    ax.set_title(title, pad=30)\n",
    "#     ax.margins(0.5)\n",
    "#     plt.subplots_adjust(left=0.3)\n",
    "\n",
    "    ax.legend(loc='upper right', bbox_to_anchor=(1.2, 1))\n",
    "#     fig.tight_layout(pad=1.5)\n",
    "    return ax\n",
    "    \n",
    "    "
   ]
  },
  {
   "cell_type": "code",
   "execution_count": 77,
   "id": "348d3931-c548-4346-8bcd-d7a01119120e",
   "metadata": {},
   "outputs": [
    {
     "data": {
      "image/png": "[encoded data removed]",
      "text/plain": [
       "<Figure size 720x360 with 1 Axes>"
      ]
     },
     "metadata": {},
     "output_type": "display_data"
    },
    {
     "data": {
      "image/png": "[encoded data removed]",
      "text/plain": [
       "<Figure size 720x360 with 1 Axes>"
      ]
     },
     "metadata": {},
     "output_type": "display_data"
    }
   ],
   "source": [
    "# Loop through the combiner indices and generate the graph for each one\n",
    "for i in range(2):\n",
    "    grouped_plot(C=i, sections=4, reduce=1)"
   ]
  },
  {
   "cell_type": "code",
   "execution_count": 135,
   "id": "8f49e2a2-9f65-413b-a20a-06419f2f078e",
   "metadata": {},
   "outputs": [],
   "source": [
    "def read_csv(a, b):\n",
    "    with open(f'./model_{int(a)}_{b}.csv') as predictions:\n",
    "        reader = csv.reader(predictions)\n",
    "        data = list(reader)\n",
    "        data.sort(key=lambda d: d[1])\n",
    "        return data"
   ]
  },
  {
   "cell_type": "code",
   "execution_count": 136,
   "id": "b1ff1870-677f-45d8-bdf9-deb36c584c10",
   "metadata": {},
   "outputs": [
    {
     "data": {
      "text/plain": [
       "(-0.049706504310999995,\n",
       " 1.0499473144909999,\n",
       " -0.04999997342741795,\n",
       " 1.049999998734639)"
      ]
     },
     "execution_count": 136,
     "metadata": {},
     "output_type": "execute_result"
    },
    {
     "data": {
      "text/plain": [
       "<Figure size 864x432 with 0 Axes>"
      ]
     },
     "metadata": {},
     "output_type": "display_data"
    },
    {
     "data": {
      "image/png": "[encoded data removed]",
      "text/plain": [
       "<Figure size 864x432 with 1 Axes>"
      ]
     },
     "metadata": {
      "needs_background": "light"
     },
     "output_type": "display_data"
    }
   ],
   "source": [
    "p = []\n",
    "# for f in range(2):\n",
    "dataset = '5ktrain'\n",
    "plot_size = (12, 6)\n",
    "fig = plt.figure(figsize=plot_size)\n",
    "plt.rcParams[\"figure.figsize\"] = plot_size\n",
    "fig, ax = plt.subplots()\n",
    "# ax.set_xscale('log')\n",
    "# ax.set_yscale('log')\n",
    "\n",
    "for f in list('1234'):\n",
    "    p.append(read_csv(f, dataset))\n",
    "    \n",
    "points = [[float(m[0]) for m in n if '.' in m[0]] for n in p]\n",
    "ax.scatter(*points[:2], alpha=0.5, s=5, c=points[2], cmap='inferno')\n",
    "ax.axis('off')"
   ]
  },
  {
   "cell_type": "code",
   "execution_count": 133,
   "id": "a0ba20a2-5d4a-4d9c-b560-e4834d48527d",
   "metadata": {},
   "outputs": [
    {
     "data": {
      "image/png": "[encoded data removed]",
      "text/plain": [
       "<Figure size 864x432 with 1 Axes>"
      ]
     },
     "metadata": {
      "needs_background": "light"
     },
     "output_type": "display_data"
    }
   ],
   "source": [
    "target = [0, 1, 2, 3]\n",
    "A = 1 / len(target)\n",
    "# for t in target:\n",
    "#     plt.hist(points[t], bins=50, alpha=A)\n",
    "\n",
    "plt.style.use('seaborn-deep')\n",
    "x = plt.hist([points[t] for t in target], bins=15)"
   ]
  },
  {
   "cell_type": "code",
   "execution_count": 79,
   "id": "a7b92c53-5995-4a93-a97f-1f3e24ad66eb",
   "metadata": {},
   "outputs": [
    {
     "data": {
      "text/plain": [
       "['0.81289905',\n",
       " '0.95971173',\n",
       " '0.006179555',\n",
       " '0.9876916',\n",
       " '0.9736626',\n",
       " '0.98772335',\n",
       " '0.033303335',\n",
       " '0.0046714065',\n",
       " '0.9967428',\n",
       " '0.3213693',\n",
       " '0.055862673',\n",
       " '0.6597553',\n",
       " '0.0060443785',\n",
       " '0.0055419593',\n",
       " '0.007804065',\n",
       " '0.9689529',\n",
       " '0.9951214',\n",
       " '0.99198806',\n",
       " '0.46407065',\n",
       " '0.84697294',\n",
       " '0.007235846',\n",
       " '0.9862201',\n",
       " '0.008184023',\n",
       " '0.99900395',\n",
       " '0.9971616',\n",
       " '0.017243013',\n",
       " '0.017952157',\n",
       " '0.9856278',\n",
       " '0.92454416',\n",
       " '0.9107183',\n",
       " '0.0045708083',\n",
       " '0.0073794806',\n",
       " '0.14339803',\n",
       " '0.14843744',\n",
       " '0.31584302',\n",
       " '0.07424777',\n",
       " '0.52538735',\n",
       " '0.9990854',\n",
       " '0.9975435',\n",
       " '0.99835855',\n",
       " '0.946736',\n",
       " '0.9847089',\n",
       " '0.9984322',\n",
       " '0.009721362',\n",
       " '0.081639215',\n",
       " '0.89528227',\n",
       " '0.01530634',\n",
       " '0.0084334565',\n",
       " '0.007909442',\n",
       " '0.99623895',\n",
       " '0.0046470175',\n",
       " '0.042979002',\n",
       " '0.0074890507',\n",
       " '0.07815773',\n",
       " '0.08788118',\n",
       " '0.9994547',\n",
       " '0.9895851',\n",
       " '0.09705146',\n",
       " '0.99932146',\n",
       " '0.0060052923',\n",
       " '0.99429226',\n",
       " '0.5232118',\n",
       " '0.07743742',\n",
       " '0.99954164',\n",
       " '0.83439636',\n",
       " '0.99668676',\n",
       " '0.994682',\n",
       " '0.99263245',\n",
       " '0.99897826',\n",
       " '0.0050064847',\n",
       " '0.9986021',\n",
       " '0.007270428',\n",
       " '0.9839961',\n",
       " '0.007970429',\n",
       " '0.07027764',\n",
       " '0.9966509',\n",
       " '0.003403848',\n",
       " '0.9968617',\n",
       " '0.0023200302',\n",
       " '0.99324447',\n",
       " '0.99341005',\n",
       " '0.81085736',\n",
       " '0.9965449',\n",
       " '0.9971372',\n",
       " '0.032476943',\n",
       " '0.7528636',\n",
       " '0.026010476',\n",
       " '0.9963709',\n",
       " '0.01676809',\n",
       " '0.54193926',\n",
       " '0.99833256',\n",
       " '0.0055050747',\n",
       " '0.0029937297',\n",
       " '0.9987129',\n",
       " '0.99992967',\n",
       " '0.9997284',\n",
       " '0.99306726',\n",
       " '0.8815995',\n",
       " '0.19385086',\n",
       " '0.97458595']"
      ]
     },
     "execution_count": 79,
     "metadata": {},
     "output_type": "execute_result"
    }
   ],
   "source": [
    "points[0][-100:]"
   ]
  },
  {
   "cell_type": "code",
   "execution_count": null,
   "id": "4e0bb0e8-991e-4e9c-a72b-3bf66f06eb73",
   "metadata": {},
   "outputs": [],
   "source": [
    "a = {\n",
    "    'a': 5,\n",
    "    'b': 35,\n",
    "    'c': 2.8\n",
    "}\n",
    "# plt.plot(a)"
   ]
  }
 ],
 "metadata": {
  "kernelspec": {
   "display_name": "Python 3",
   "language": "python",
   "name": "python3"
  },
  "language_info": {
   "codemirror_mode": {
    "name": "ipython",
    "version": 3
   },
   "file_extension": ".py",
   "mimetype": "text/x-python",
   "name": "python",
   "nbconvert_exporter": "python",
   "pygments_lexer": "ipython3",
   "version": "3.9.4"
  },
  "toc-showcode": true
 },
 "nbformat": 4,
 "nbformat_minor": 5
}
